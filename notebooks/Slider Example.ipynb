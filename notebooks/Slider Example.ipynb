{
 "cells": [
  {
   "cell_type": "code",
   "execution_count": 1,
   "metadata": {},
   "outputs": [
    {
     "data": {
      "text/html": [
       "    <script id=\"webio-setup-5864410536642748197\">\n",
       "    // Immediately-invoked-function-expression to avoid global variables.\n",
       "    (function() {\n",
       "        var warning_div = document.getElementById(\"webio-warning-15283234956461369937\");\n",
       "        var hide = function () {\n",
       "            var script = document.getElementById(\"webio-setup-5864410536642748197\");\n",
       "            var parent = script && script.parentElement;\n",
       "            var grandparent = parent && parent.parentElement;\n",
       "            if (grandparent) {\n",
       "                grandparent.style.display = \"none\";\n",
       "            }\n",
       "            warning_div.style.display = \"none\";\n",
       "        };\n",
       "        if (window.require && require.defined) {\n",
       "            // Jupyter notebook.\n",
       "            if (require.defined(\"nbextensions/webio/main\")\n",
       "                    || require.defined(\"/assetserver/de7f179e1a7545fdbb28cebb92da4aec9317da10-dist/main.js\")) {\n",
       "                // Extension already loaded.\n",
       "                hide();\n",
       "                return;\n",
       "            }\n",
       "            console.warn(\"Loading WebIO Jupyter extension on an ad-hoc basis. Consider enabling the WebIO nbextension for a stabler experience (this should happen automatically when building WebIO).\");\n",
       "            require([\"/assetserver/de7f179e1a7545fdbb28cebb92da4aec9317da10-dist/main.js\"], function (webIOModule) {\n",
       "                webIOModule.load_ipython_extension();\n",
       "            });\n",
       "            warning_div.innerHTML = \"<strong>Loading WebIO Jupyter extension on an ad-hoc basis. Consider enabling the WebIO nbextension for a stabler experience (this should happen automatically when building WebIO).</strong>\";\n",
       "        } else if (window.location.pathname.includes(\"/lab\")) {\n",
       "            // Guessing JupyterLab\n",
       "            warning_div.innerHTML = \"WebIO does not support JupyterLab yet.\";\n",
       "        }\n",
       "    })();\n",
       "    </script>\n",
       "    <div\n",
       "        id=\"webio-warning-15283234956461369937\"\n",
       "        class=\"output_text output_stderr\"\n",
       "        style=\"padding: 1em; font-weight: bold;\"\n",
       "    >\n",
       "        Unable to load WebIO. Please make sure WebIO works for your Jupyter client.\n",
       "        <!-- TODO: link to installation docs. -->\n",
       "    </div>\n"
      ],
      "text/plain": [
       "HTML{String}(\"    <script id=\\\"webio-setup-5864410536642748197\\\">\\n    // Immediately-invoked-function-expression to avoid global variables.\\n    (function() {\\n        var warning_div = document.getElementById(\\\"webio-warning-15283234956461369937\\\");\\n        var hide = function () {\\n            var script = document.getElementById(\\\"webio-setup-5864410536642748197\\\");\\n            var parent = script && script.parentElement;\\n            var grandparent = parent && parent.parentElement;\\n            if (grandparent) {\\n                grandparent.style.display = \\\"none\\\";\\n            }\\n            warning_div.style.display = \\\"none\\\";\\n        };\\n        if (window.require && require.defined) {\\n            // Jupyter notebook.\\n            if (require.defined(\\\"nbextensions/webio/main\\\")\\n                    || require.defined(\\\"/assetserver/de7f179e1a7545fdbb28cebb92da4aec9317da10-dist/main.js\\\")) {\\n                // Extension already loaded.\\n                hide();\\n                return;\\n            }\\n            console.warn(\\\"Loading WebIO Jupyter extension on an ad-hoc basis. Consider enabling the WebIO nbextension for a stabler experience (this should happen automatically when building WebIO).\\\");\\n            require([\\\"/assetserver/de7f179e1a7545fdbb28cebb92da4aec9317da10-dist/main.js\\\"], function (webIOModule) {\\n                webIOModule.load_ipython_extension();\\n            });\\n            warning_div.innerHTML = \\\"<strong>Loading WebIO Jupyter extension on an ad-hoc basis. Consider enabling the WebIO nbextension for a stabler experience (this should happen automatically when building WebIO).</strong>\\\";\\n        } else if (window.location.pathname.includes(\\\"/lab\\\")) {\\n            // Guessing JupyterLab\\n            warning_div.innerHTML = \\\"WebIO does not support JupyterLab yet.\\\";\\n        }\\n    })();\\n    </script>\\n    <div\\n        id=\\\"webio-warning-15283234956461369937\\\"\\n        class=\\\"output_text output_stderr\\\"\\n        style=\\\"padding: 1em; font-weight: bold;\\\"\\n    >\\n        Unable to load WebIO. Please make sure WebIO works for your Jupyter client.\\n        <!-- TODO: link to installation docs. -->\\n    </div>\\n\")"
      ]
     },
     "metadata": {},
     "output_type": "display_data"
    }
   ],
   "source": [
    "using Plots, Interact"
   ]
  },
  {
   "cell_type": "code",
   "execution_count": null,
   "metadata": {},
   "outputs": [],
   "source": [
    "@manipulate for ϕ = 0:π/16:4π, f = [sin, cos], both = false\n",
    "    if both\n",
    "        plot([θ -> sin(θ + ϕ), θ -> cos(θ + ϕ)], 0, 8)\n",
    "    else\n",
    "        plot(θ -> f(θ + ϕ), 0, 8)\n",
    "    end\n",
    "end"
   ]
  },
  {
   "cell_type": "code",
   "execution_count": null,
   "metadata": {},
   "outputs": [],
   "source": []
  }
 ],
 "metadata": {
  "@webio": {
   "lastCommId": "7c299d76bd924c77896824159090495b",
   "lastKernelId": "5c679b0d-10eb-407a-92db-dda214972e91"
  },
  "kernelspec": {
   "display_name": "Julia 1.0.2",
   "language": "julia",
   "name": "julia-1.0"
  },
  "language_info": {
   "file_extension": ".jl",
   "mimetype": "application/julia",
   "name": "julia",
   "version": "1.0.2"
  }
 },
 "nbformat": 4,
 "nbformat_minor": 2
}
