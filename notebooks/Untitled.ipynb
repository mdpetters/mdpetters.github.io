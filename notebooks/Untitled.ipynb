{
 "cells": [
  {
   "cell_type": "code",
   "execution_count": 1,
   "metadata": {},
   "outputs": [
    {
     "name": "stderr",
     "output_type": "stream",
     "text": [
      "┌ Info: Recompiling stale cache file /home/mdpetter/.julia/compiled/v1.0/Plots/ld3vC.ji for Plots [91a5bcdd-55d7-5caf-9e0b-520d859cae80]\n",
      "└ @ Base loading.jl:1190\n",
      "┌ Info: Recompiling stale cache file /home/mdpetter/.julia/compiled/v1.0/PlotlyJS/1r9Ld.ji for PlotlyJS [f0f68f2c-4968-5e81-91da-67840de0976a]\n",
      "└ @ Base loading.jl:1190\n",
      "WARNING: could not import Base.quit into AtomShell\n"
     ]
    },
    {
     "data": {
      "text/html": [
       "    <script id=\"webio-setup-15506432331669715813\">\n",
       "    // Immediately-invoked-function-expression to avoid global variables.\n",
       "    (function() {\n",
       "        var warning_div = document.getElementById(\"webio-warning-10670497357175549922\");\n",
       "        var hide = function () {\n",
       "            var script = document.getElementById(\"webio-setup-15506432331669715813\");\n",
       "            var parent = script && script.parentElement;\n",
       "            var grandparent = parent && parent.parentElement;\n",
       "            if (grandparent) {\n",
       "                grandparent.style.display = \"none\";\n",
       "            }\n",
       "            warning_div.style.display = \"none\";\n",
       "        };\n",
       "        if (window.require && require.defined) {\n",
       "            // Jupyter notebook.\n",
       "            if (require.defined(\"nbextensions/webio/main\")\n",
       "                    || require.defined(\"/assetserver/0cfc971844e6707f46a53071eba9cbf221a18b15-dist/main.js\")) {\n",
       "                // Extension already loaded.\n",
       "                hide();\n",
       "                return;\n",
       "            }\n",
       "            console.warn(\"Loading WebIO Jupyter extension on an ad-hoc basis. Consider enabling the WebIO nbextension for a stabler experience (this should happen automatically when building WebIO).\");\n",
       "            require([\"/assetserver/0cfc971844e6707f46a53071eba9cbf221a18b15-dist/main.js\"], function (webIOModule) {\n",
       "                webIOModule.load_ipython_extension();\n",
       "            });\n",
       "            warning_div.innerHTML = \"<strong>Loading WebIO Jupyter extension on an ad-hoc basis. Consider enabling the WebIO nbextension for a stabler experience (this should happen automatically when building WebIO).</strong>\";\n",
       "        } else if (window.location.pathname.includes(\"/lab\")) {\n",
       "            // Guessing JupyterLab\n",
       "            warning_div.innerHTML = \"WebIO does not support JupyterLab yet.\";\n",
       "        }\n",
       "    })();\n",
       "    </script>\n",
       "    <div\n",
       "        id=\"webio-warning-10670497357175549922\"\n",
       "        class=\"output_text output_stderr\"\n",
       "        style=\"padding: 1em; font-weight: bold;\"\n",
       "    >\n",
       "        Unable to load WebIO. Please make sure WebIO works for your Jupyter client.\n",
       "        <!-- TODO: link to installation docs. -->\n",
       "    </div>\n"
      ],
      "text/plain": [
       "HTML{String}(\"    <script id=\\\"webio-setup-15506432331669715813\\\">\\n    // Immediately-invoked-function-expression to avoid global variables.\\n    (function() {\\n        var warning_div = document.getElementById(\\\"webio-warning-10670497357175549922\\\");\\n        var hide = function () {\\n            var script = document.getElementById(\\\"webio-setup-15506432331669715813\\\");\\n            var parent = script && script.parentElement;\\n            var grandparent = parent && parent.parentElement;\\n            if (grandparent) {\\n                grandparent.style.display = \\\"none\\\";\\n            }\\n            warning_div.style.display = \\\"none\\\";\\n        };\\n        if (window.require && require.defined) {\\n            // Jupyter notebook.\\n            if (require.defined(\\\"nbextensions/webio/main\\\")\\n                    || require.defined(\\\"/assetserver/0cfc971844e6707f46a53071eba9cbf221a18b15-dist/main.js\\\")) {\\n                // Extension already loaded.\\n                hide();\\n                return;\\n            }\\n            console.warn(\\\"Loading WebIO Jupyter extension on an ad-hoc basis. Consider enabling the WebIO nbextension for a stabler experience (this should happen automatically when building WebIO).\\\");\\n            require([\\\"/assetserver/0cfc971844e6707f46a53071eba9cbf221a18b15-dist/main.js\\\"], function (webIOModule) {\\n                webIOModule.load_ipython_extension();\\n            });\\n            warning_div.innerHTML = \\\"<strong>Loading WebIO Jupyter extension on an ad-hoc basis. Consider enabling the WebIO nbextension for a stabler experience (this should happen automatically when building WebIO).</strong>\\\";\\n        } else if (window.location.pathname.includes(\\\"/lab\\\")) {\\n            // Guessing JupyterLab\\n            warning_div.innerHTML = \\\"WebIO does not support JupyterLab yet.\\\";\\n        }\\n    })();\\n    </script>\\n    <div\\n        id=\\\"webio-warning-10670497357175549922\\\"\\n        class=\\\"output_text output_stderr\\\"\\n        style=\\\"padding: 1em; font-weight: bold;\\\"\\n    >\\n        Unable to load WebIO. Please make sure WebIO works for your Jupyter client.\\n        <!-- TODO: link to installation docs. -->\\n    </div>\\n\")"
      ]
     },
     "metadata": {},
     "output_type": "display_data"
    },
    {
     "name": "stderr",
     "output_type": "stream",
     "text": [
      "┌ Info: Recompiling stale cache file /home/mdpetter/.julia/compiled/v1.0/ORCA/jvX7k.ji for ORCA [47be7bcc-f1a6-5447-8b36-7eeeff7534fd]\n",
      "└ @ Base loading.jl:1190\n"
     ]
    },
    {
     "data": {
      "text/plain": [
       "Plots.PlotlyJSBackend()"
      ]
     },
     "execution_count": 1,
     "metadata": {},
     "output_type": "execute_result"
    }
   ],
   "source": [
    "using Plots\n",
    "plotlyjs()"
   ]
  },
  {
   "cell_type": "code",
   "execution_count": 2,
   "metadata": {},
   "outputs": [
    {
     "ename": "UndefVarError",
     "evalue": "UndefVarError: _use_remote not defined",
     "output_type": "error",
     "traceback": [
      "UndefVarError: _use_remote not defined",
      "",
      "Stacktrace:",
      " [1] _show(::Base.GenericIOBuffer{Array{UInt8,1}}, ::MIME{Symbol(\"text/html\")}, ::Plots.Plot{Plots.PlotlyJSBackend}) at /home/mdpetter/.julia/packages/Plots/rmogG/src/backends/plotlyjs.jl:54",
      " [2] show(::Base.GenericIOBuffer{Array{UInt8,1}}, ::MIME{Symbol(\"text/html\")}, ::Plots.Plot{Plots.PlotlyJSBackend}) at /home/mdpetter/.julia/packages/Plots/rmogG/src/output.jl:201",
      " [3] #sprint#325(::Nothing, ::Int64, ::Function, ::Function, ::MIME{Symbol(\"text/html\")}, ::Vararg{Any,N} where N) at ./strings/io.jl:101",
      " [4] sprint(::Function, ::MIME{Symbol(\"text/html\")}, ::Vararg{Any,N} where N) at ./strings/io.jl:97",
      " [5] display_dict(::Plots.Plot{Plots.PlotlyJSBackend}) at /home/mdpetter/.julia/packages/Plots/rmogG/src/init.jl:76",
      " [6] #invokelatest#1 at ./essentials.jl:697 [inlined]",
      " [7] invokelatest at ./essentials.jl:696 [inlined]",
      " [8] execute_request(::ZMQ.Socket, ::IJulia.Msg) at /home/mdpetter/.julia/packages/IJulia/DL02A/src/execute_request.jl:97",
      " [9] #invokelatest#1 at ./essentials.jl:697 [inlined]",
      " [10] invokelatest at ./essentials.jl:696 [inlined]",
      " [11] eventloop(::ZMQ.Socket) at /home/mdpetter/.julia/packages/IJulia/DL02A/src/eventloop.jl:8",
      " [12] (::getfield(IJulia, Symbol(\"##12#15\")))() at ./task.jl:259"
     ]
    }
   ],
   "source": [
    "plot(rand(100))"
   ]
  },
  {
   "cell_type": "code",
   "execution_count": null,
   "metadata": {},
   "outputs": [],
   "source": []
  }
 ],
 "metadata": {
  "@webio": {
   "lastCommId": "3a9f324bb61d4031ae907dfa33e23f38",
   "lastKernelId": "5c5e01ce-0afc-4273-9f99-9765fd3513e2"
  },
  "kernelspec": {
   "display_name": "Julia 1.0.2",
   "language": "julia",
   "name": "julia-1.0"
  },
  "language_info": {
   "file_extension": ".jl",
   "mimetype": "application/julia",
   "name": "julia",
   "version": "1.0.2"
  }
 },
 "nbformat": 4,
 "nbformat_minor": 2
}
