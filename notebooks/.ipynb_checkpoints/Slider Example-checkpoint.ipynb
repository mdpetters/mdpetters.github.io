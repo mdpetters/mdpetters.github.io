{
 "cells": [
  {
   "cell_type": "code",
   "execution_count": 1,
   "metadata": {},
   "outputs": [
    {
     "data": {
      "text/html": [
       "    <script id=\"webio-setup-5864410536642748197\">\n",
       "    // Immediately-invoked-function-expression to avoid global variables.\n",
       "    (function() {\n",
       "        var warning_div = document.getElementById(\"webio-warning-15283234956461369937\");\n",
       "        var hide = function () {\n",
       "            var script = document.getElementById(\"webio-setup-5864410536642748197\");\n",
       "            var parent = script && script.parentElement;\n",
       "            var grandparent = parent && parent.parentElement;\n",
       "            if (grandparent) {\n",
       "                grandparent.style.display = \"none\";\n",
       "            }\n",
       "            warning_div.style.display = \"none\";\n",
       "        };\n",
       "        if (window.require && require.defined) {\n",
       "            // Jupyter notebook.\n",
       "            if (require.defined(\"nbextensions/webio/main\")\n",
       "                    || require.defined(\"/assetserver/de7f179e1a7545fdbb28cebb92da4aec9317da10-dist/main.js\")) {\n",
       "                // Extension already loaded.\n",
       "                hide();\n",
       "                return;\n",
       "            }\n",
       "            console.warn(\"Loading WebIO Jupyter extension on an ad-hoc basis. Consider enabling the WebIO nbextension for a stabler experience (this should happen automatically when building WebIO).\");\n",
       "            require([\"/assetserver/de7f179e1a7545fdbb28cebb92da4aec9317da10-dist/main.js\"], function (webIOModule) {\n",
       "                webIOModule.load_ipython_extension();\n",
       "            });\n",
       "            warning_div.innerHTML = \"<strong>Loading WebIO Jupyter extension on an ad-hoc basis. Consider enabling the WebIO nbextension for a stabler experience (this should happen automatically when building WebIO).</strong>\";\n",
       "        } else if (window.location.pathname.includes(\"/lab\")) {\n",
       "            // Guessing JupyterLab\n",
       "            warning_div.innerHTML = \"WebIO does not support JupyterLab yet.\";\n",
       "        }\n",
       "    })();\n",
       "    </script>\n",
       "    <div\n",
       "        id=\"webio-warning-15283234956461369937\"\n",
       "        class=\"output_text output_stderr\"\n",
       "        style=\"padding: 1em; font-weight: bold;\"\n",
       "    >\n",
       "        Unable to load WebIO. Please make sure WebIO works for your Jupyter client.\n",
       "        <!-- TODO: link to installation docs. -->\n",
       "    </div>\n"
      ],
      "text/plain": [
       "HTML{String}(\"    <script id=\\\"webio-setup-5864410536642748197\\\">\\n    // Immediately-invoked-function-expression to avoid global variables.\\n    (function() {\\n        var warning_div = document.getElementById(\\\"webio-warning-15283234956461369937\\\");\\n        var hide = function () {\\n            var script = document.getElementById(\\\"webio-setup-5864410536642748197\\\");\\n            var parent = script && script.parentElement;\\n            var grandparent = parent && parent.parentElement;\\n            if (grandparent) {\\n                grandparent.style.display = \\\"none\\\";\\n            }\\n            warning_div.style.display = \\\"none\\\";\\n        };\\n        if (window.require && require.defined) {\\n            // Jupyter notebook.\\n            if (require.defined(\\\"nbextensions/webio/main\\\")\\n                    || require.defined(\\\"/assetserver/de7f179e1a7545fdbb28cebb92da4aec9317da10-dist/main.js\\\")) {\\n                // Extension already loaded.\\n                hide();\\n                return;\\n            }\\n            console.warn(\\\"Loading WebIO Jupyter extension on an ad-hoc basis. Consider enabling the WebIO nbextension for a stabler experience (this should happen automatically when building WebIO).\\\");\\n            require([\\\"/assetserver/de7f179e1a7545fdbb28cebb92da4aec9317da10-dist/main.js\\\"], function (webIOModule) {\\n                webIOModule.load_ipython_extension();\\n            });\\n            warning_div.innerHTML = \\\"<strong>Loading WebIO Jupyter extension on an ad-hoc basis. Consider enabling the WebIO nbextension for a stabler experience (this should happen automatically when building WebIO).</strong>\\\";\\n        } else if (window.location.pathname.includes(\\\"/lab\\\")) {\\n            // Guessing JupyterLab\\n            warning_div.innerHTML = \\\"WebIO does not support JupyterLab yet.\\\";\\n        }\\n    })();\\n    </script>\\n    <div\\n        id=\\\"webio-warning-15283234956461369937\\\"\\n        class=\\\"output_text output_stderr\\\"\\n        style=\\\"padding: 1em; font-weight: bold;\\\"\\n    >\\n        Unable to load WebIO. Please make sure WebIO works for your Jupyter client.\\n        <!-- TODO: link to installation docs. -->\\n    </div>\\n\")"
      ]
     },
     "metadata": {},
     "output_type": "display_data"
    }
   ],
   "source": [
    "using Plots, Interact"
   ]
  },
  {
   "cell_type": "code",
   "execution_count": 2,
   "metadata": {},
   "outputs": [
    {
     "data": {
      "application/vnd.webio.node+json": {
       "children": [
        {
         "children": [
          {
           "children": [
            {
             "children": [
              {
               "children": [
                {
                 "children": [
                  "ϕ"
                 ],
                 "instanceArgs": {
                  "namespace": "html",
                  "tag": "label"
                 },
                 "nodeType": "DOM",
                 "props": {
                  "className": "interact ",
                  "style": {
                   "padding": "5px 10px 0px 10px"
                  }
                 },
                 "type": "node"
                }
               ],
               "instanceArgs": {
                "namespace": "html",
                "tag": "div"
               },
               "nodeType": "DOM",
               "props": {
                "attributes": {
                 "style": "text-align:right;width:18%"
                }
               },
               "type": "node"
              },
              {
               "children": [
                {
                 "children": [],
                 "instanceArgs": {
                  "namespace": "html",
                  "tag": "input"
                 },
                 "nodeType": "DOM",
                 "props": {
                  "attributes": {
                   "data-bind": "numericValue: index, valueUpdate: 'input', event: {change : function () {this.changes(this.changes()+1)}}",
                   "orient": "horizontal",
                   "type": "range"
                  },
                  "className": "slider slider is-fullwidth",
                  "max": 65,
                  "min": 1,
                  "step": 1,
                  "style": {}
                 },
                 "type": "node"
                }
               ],
               "instanceArgs": {
                "namespace": "html",
                "tag": "div"
               },
               "nodeType": "DOM",
               "props": {
                "attributes": {
                 "style": "flex-grow:1; margin: 0 2%"
                }
               },
               "type": "node"
              },
              {
               "children": [
                {
                 "children": [],
                 "instanceArgs": {
                  "namespace": "html",
                  "tag": "p"
                 },
                 "nodeType": "DOM",
                 "props": {
                  "attributes": {
                   "data-bind": "text: formatted_value"
                  }
                 },
                 "type": "node"
                }
               ],
               "instanceArgs": {
                "namespace": "html",
                "tag": "div"
               },
               "nodeType": "DOM",
               "props": {
                "attributes": {
                 "style": "width:18%"
                }
               },
               "type": "node"
              }
             ],
             "instanceArgs": {
              "namespace": "html",
              "tag": "div"
             },
             "nodeType": "DOM",
             "props": {
              "attributes": {
               "style": "display:flex; justify-content:center; align-items:center;"
              }
             },
             "type": "node"
            }
           ],
           "instanceArgs": {
            "handlers": {
             "_promises": {
              "importsLoaded": [
               "function (ko, koPunches) {\n    ko.punches.enableAll();\n    ko.bindingHandlers.numericValue = {\n        init : function(element, valueAccessor, allBindings, data, context) {\n            var stringified = ko.observable(ko.unwrap(valueAccessor()));\n            stringified.subscribe(function(value) {\n                var val = parseFloat(value);\n                if (!isNaN(val)) {\n                    valueAccessor()(val);\n                }\n            })\n            valueAccessor().subscribe(function(value) {\n                var str = JSON.stringify(value);\n                if ((str == \"0\") && ([\"-0\", \"-0.\"].indexOf(stringified()) >= 0))\n                     return;\n                 if ([\"null\", \"\"].indexOf(str) >= 0)\n                     return;\n                stringified(str);\n            })\n            ko.applyBindingsToNode(element, { value: stringified, valueUpdate: allBindings.get('valueUpdate')}, context);\n        }\n    };\n    var json_data = JSON.parse(\"{\\\"formatted_vals\\\":[\\\"0.0\\\",\\\"0.19635\\\",\\\"0.392699\\\",\\\"0.589049\\\",\\\"0.785398\\\",\\\"0.981748\\\",\\\"1.1781\\\",\\\"1.37445\\\",\\\"1.5708\\\",\\\"1.76715\\\",\\\"1.9635\\\",\\\"2.15984\\\",\\\"2.35619\\\",\\\"2.55254\\\",\\\"2.74889\\\",\\\"2.94524\\\",\\\"3.14159\\\",\\\"3.33794\\\",\\\"3.53429\\\",\\\"3.73064\\\",\\\"3.92699\\\",\\\"4.12334\\\",\\\"4.31969\\\",\\\"4.51604\\\",\\\"4.71239\\\",\\\"4.90874\\\",\\\"5.10509\\\",\\\"5.30144\\\",\\\"5.49779\\\",\\\"5.69414\\\",\\\"5.89049\\\",\\\"6.08684\\\",\\\"6.28319\\\",\\\"6.47953\\\",\\\"6.67588\\\",\\\"6.87223\\\",\\\"7.06858\\\",\\\"7.26493\\\",\\\"7.46128\\\",\\\"7.65763\\\",\\\"7.85398\\\",\\\"8.05033\\\",\\\"8.24668\\\",\\\"8.44303\\\",\\\"8.63938\\\",\\\"8.83573\\\",\\\"9.03208\\\",\\\"9.22843\\\",\\\"9.42478\\\",\\\"9.62113\\\",\\\"9.81748\\\",\\\"10.0138\\\",\\\"10.2102\\\",\\\"10.4065\\\",\\\"10.6029\\\",\\\"10.7992\\\",\\\"10.9956\\\",\\\"11.1919\\\",\\\"11.3883\\\",\\\"11.5846\\\",\\\"11.781\\\",\\\"11.9773\\\",\\\"12.1737\\\",\\\"12.37\\\",\\\"12.5664\\\"],\\\"changes\\\":0,\\\"formatted_value\\\":\\\"6.28319\\\",\\\"index\\\":33}\");\n    var self = this;\n    function AppViewModel() {\n        for (var key in json_data) {\n            var el = json_data[key];\n            this[key] = Array.isArray(el) ? ko.observableArray(el) : ko.observable(el);\n        }\n        \n        \n        [this[\"formatted_vals\"].subscribe((function (val){!(this.valueFromJulia[\"formatted_vals\"]) ? (_webIOScope.setObservableValue({\"name\":\"formatted_vals\",\"scope\":\"knockout-component-faa129d5-df16-43c1-8887-131782bf052b\",\"id\":\"ob_03\",\"type\":\"observable\"},val)) : undefined; return this.valueFromJulia[\"formatted_vals\"]=false}),self),this[\"changes\"].subscribe((function (val){!(this.valueFromJulia[\"changes\"]) ? (_webIOScope.setObservableValue({\"name\":\"changes\",\"scope\":\"knockout-component-faa129d5-df16-43c1-8887-131782bf052b\",\"id\":\"ob_05\",\"type\":\"observable\"},val)) : undefined; return this.valueFromJulia[\"changes\"]=false}),self),this[\"formatted_value\"].subscribe((function (val){!(this.valueFromJulia[\"formatted_value\"]) ? (_webIOScope.setObservableValue({\"name\":\"formatted_value\",\"scope\":\"knockout-component-faa129d5-df16-43c1-8887-131782bf052b\",\"id\":\"ob_04\",\"type\":\"observable\"},val)) : undefined; return this.valueFromJulia[\"formatted_value\"]=false}),self),this[\"index\"].subscribe((function (val){!(this.valueFromJulia[\"index\"]) ? (_webIOScope.setObservableValue({\"name\":\"index\",\"scope\":\"knockout-component-faa129d5-df16-43c1-8887-131782bf052b\",\"id\":\"ob_02\",\"type\":\"observable\"},val)) : undefined; return this.valueFromJulia[\"index\"]=false}),self)]\n        \n    }\n    self.model = new AppViewModel();\n    self.valueFromJulia = {};\n    for (var key in json_data) {\n        self.valueFromJulia[key] = false;\n    }\n    ko.applyBindings(self.model, self.dom);\n}\n"
              ]
             },
             "changes": [
              "(function (val){return (val!=this.model[\"changes\"]()) ? (this.valueFromJulia[\"changes\"]=true, this.model[\"changes\"](val)) : undefined})"
             ],
             "formatted_vals": [
              "(function (val){return (val!=this.model[\"formatted_vals\"]()) ? (this.valueFromJulia[\"formatted_vals\"]=true, this.model[\"formatted_vals\"](val)) : undefined})"
             ],
             "formatted_value": [
              "(function (val){return (val!=this.model[\"formatted_value\"]()) ? (this.valueFromJulia[\"formatted_value\"]=true, this.model[\"formatted_value\"](val)) : undefined})"
             ],
             "index": [
              "(function (val){return (val!=this.model[\"index\"]()) ? (this.valueFromJulia[\"index\"]=true, this.model[\"index\"](val)) : undefined})",
              "(function (val){return _webIOScope.setObservableValue({\"name\":\"formatted_value\",\"scope\":\"knockout-component-faa129d5-df16-43c1-8887-131782bf052b\",\"id\":\"ob_04\",\"type\":\"observable\"},_webIOScope.getObservableValue({\"name\":\"formatted_vals\",\"scope\":\"knockout-component-faa129d5-df16-43c1-8887-131782bf052b\",\"id\":\"ob_03\",\"type\":\"observable\"})[(_webIOScope.getObservableValue({\"name\":\"index\",\"scope\":\"knockout-component-faa129d5-df16-43c1-8887-131782bf052b\",\"id\":\"ob_02\",\"type\":\"observable\"})-1)])})"
             ]
            },
            "id": "knockout-component-faa129d5-df16-43c1-8887-131782bf052b",
            "imports": {
             "data": [
              {
               "name": "knockout",
               "type": "js",
               "url": "/assetserver/e713c2274767bc67f2918d1c4bf1b0a8cb356e9a-knockout.js"
              },
              {
               "name": "knockout_punches",
               "type": "js",
               "url": "/assetserver/db898cdcbffe65bd5a5dd3e9cfbad1225a950e7c-knockout_punches.js"
              },
              {
               "name": null,
               "type": "js",
               "url": "/assetserver/84d4978c0d5058ec9739ad10567975a6f8cefb95-all.js"
              },
              {
               "name": null,
               "type": "css",
               "url": "/assetserver/6e2f0aeda65570f8582fcee9c6f303058d3220ff-style.css"
              },
              {
               "name": null,
               "type": "css",
               "url": "/assetserver/bfa247a701d2e1219718e9e755a115e20e4d1cd4-main.css"
              }
             ],
             "type": "async_block"
            },
            "observables": {
             "changes": {
              "id": "ob_05",
              "sync": false,
              "value": 0
             },
             "formatted_vals": {
              "id": "ob_03",
              "sync": false,
              "value": [
               "0.0",
               "0.19635",
               "0.392699",
               "0.589049",
               "0.785398",
               "0.981748",
               "1.1781",
               "1.37445",
               "1.5708",
               "1.76715",
               "1.9635",
               "2.15984",
               "2.35619",
               "2.55254",
               "2.74889",
               "2.94524",
               "3.14159",
               "3.33794",
               "3.53429",
               "3.73064",
               "3.92699",
               "4.12334",
               "4.31969",
               "4.51604",
               "4.71239",
               "4.90874",
               "5.10509",
               "5.30144",
               "5.49779",
               "5.69414",
               "5.89049",
               "6.08684",
               "6.28319",
               "6.47953",
               "6.67588",
               "6.87223",
               "7.06858",
               "7.26493",
               "7.46128",
               "7.65763",
               "7.85398",
               "8.05033",
               "8.24668",
               "8.44303",
               "8.63938",
               "8.83573",
               "9.03208",
               "9.22843",
               "9.42478",
               "9.62113",
               "9.81748",
               "10.0138",
               "10.2102",
               "10.4065",
               "10.6029",
               "10.7992",
               "10.9956",
               "11.1919",
               "11.3883",
               "11.5846",
               "11.781",
               "11.9773",
               "12.1737",
               "12.37",
               "12.5664"
              ]
             },
             "formatted_value": {
              "id": "ob_04",
              "sync": false,
              "value": "6.28319"
             },
             "index": {
              "id": "ob_02",
              "sync": true,
              "value": 33
             }
            },
            "systemjs_options": null
           },
           "nodeType": "Scope",
           "props": {},
           "type": "node"
          }
         ],
         "instanceArgs": {
          "namespace": "html",
          "tag": "div"
         },
         "nodeType": "DOM",
         "props": {
          "className": "field"
         },
         "type": "node"
        },
        {
         "children": [
          {
           "children": [
            {
             "children": [
              {
               "children": [
                {
                 "children": [
                  "f"
                 ],
                 "instanceArgs": {
                  "namespace": "html",
                  "tag": "label"
                 },
                 "nodeType": "DOM",
                 "props": {
                  "className": "interact ",
                  "style": {
                   "padding": "5px 10px 0px 10px"
                  }
                 },
                 "type": "node"
                }
               ],
               "instanceArgs": {
                "namespace": "html",
                "tag": "div"
               },
               "nodeType": "DOM",
               "props": {
                "attributes": {
                 "style": "text-align:right;width:18%"
                }
               },
               "type": "node"
              },
              {
               "children": [
                {
                 "children": [
                  {
                   "children": [
                    {
                     "children": [],
                     "instanceArgs": {
                      "namespace": "html",
                      "tag": "label"
                     },
                     "nodeType": "DOM",
                     "props": {
                      "attributes": {
                       "data-bind": "text : key"
                      }
                     },
                     "type": "node"
                    }
                   ],
                   "instanceArgs": {
                    "namespace": "html",
                    "tag": "button"
                   },
                   "nodeType": "DOM",
                   "props": {
                    "attributes": {
                     "data-bind": "click: function () {$root.index(val)}, css: {'is-primary is-selected' : $root.index() == val, 'button is-fullwidth' : true}"
                    }
                   },
                   "type": "node"
                  }
                 ],
                 "instanceArgs": {
                  "namespace": "html",
                  "tag": "div"
                 },
                 "nodeType": "DOM",
                 "props": {
                  "attributes": {
                   "data-bind": "foreach : options_js"
                  },
                  "className": "field is-grouped has-addons is-oneline is-centered"
                 },
                 "type": "node"
                }
               ],
               "instanceArgs": {
                "namespace": "html",
                "tag": "div"
               },
               "nodeType": "DOM",
               "props": {
                "attributes": {
                 "style": "flex-grow:1; margin: 0 2%"
                }
               },
               "type": "node"
              },
              {
               "children": [
                {
                 "children": [],
                 "instanceArgs": {
                  "namespace": "html",
                  "tag": "div"
                 },
                 "nodeType": "DOM",
                 "props": {},
                 "type": "node"
                }
               ],
               "instanceArgs": {
                "namespace": "html",
                "tag": "div"
               },
               "nodeType": "DOM",
               "props": {
                "attributes": {
                 "style": "width:18%"
                }
               },
               "type": "node"
              }
             ],
             "instanceArgs": {
              "namespace": "html",
              "tag": "div"
             },
             "nodeType": "DOM",
             "props": {
              "attributes": {
               "style": "display:flex; justify-content:center; align-items:center;"
              }
             },
             "type": "node"
            }
           ],
           "instanceArgs": {
            "handlers": {
             "_promises": {
              "importsLoaded": [
               "function (ko, koPunches) {\n    ko.punches.enableAll();\n    ko.bindingHandlers.numericValue = {\n        init : function(element, valueAccessor, allBindings, data, context) {\n            var stringified = ko.observable(ko.unwrap(valueAccessor()));\n            stringified.subscribe(function(value) {\n                var val = parseFloat(value);\n                if (!isNaN(val)) {\n                    valueAccessor()(val);\n                }\n            })\n            valueAccessor().subscribe(function(value) {\n                var str = JSON.stringify(value);\n                if ((str == \"0\") && ([\"-0\", \"-0.\"].indexOf(stringified()) >= 0))\n                     return;\n                 if ([\"null\", \"\"].indexOf(str) >= 0)\n                     return;\n                stringified(str);\n            })\n            ko.applyBindingsToNode(element, { value: stringified, valueUpdate: allBindings.get('valueUpdate')}, context);\n        }\n    };\n    var json_data = JSON.parse(\"{\\\"options_js\\\":[{\\\"key\\\":\\\"sin\\\",\\\"val\\\":1,\\\"id\\\":\\\"id6Uv4HNNV\\\"},{\\\"key\\\":\\\"cos\\\",\\\"val\\\":2,\\\"id\\\":\\\"idfHneo8Jj\\\"}],\\\"index\\\":1}\");\n    var self = this;\n    function AppViewModel() {\n        for (var key in json_data) {\n            var el = json_data[key];\n            this[key] = Array.isArray(el) ? ko.observableArray(el) : ko.observable(el);\n        }\n        \n        \n        [this[\"options_js\"].subscribe((function (val){!(this.valueFromJulia[\"options_js\"]) ? (_webIOScope.setObservableValue({\"name\":\"options_js\",\"scope\":\"knockout-component-bdb44ff2-0a9b-46a8-b6dc-0451d1779f7c\",\"id\":\"ob_10\",\"type\":\"observable\"},val)) : undefined; return this.valueFromJulia[\"options_js\"]=false}),self),this[\"index\"].subscribe((function (val){!(this.valueFromJulia[\"index\"]) ? (_webIOScope.setObservableValue({\"name\":\"index\",\"scope\":\"knockout-component-bdb44ff2-0a9b-46a8-b6dc-0451d1779f7c\",\"id\":\"ob_09\",\"type\":\"observable\"},val)) : undefined; return this.valueFromJulia[\"index\"]=false}),self)]\n        \n    }\n    self.model = new AppViewModel();\n    self.valueFromJulia = {};\n    for (var key in json_data) {\n        self.valueFromJulia[key] = false;\n    }\n    ko.applyBindings(self.model, self.dom);\n}\n"
              ]
             },
             "index": [
              "(function (val){return (val!=this.model[\"index\"]()) ? (this.valueFromJulia[\"index\"]=true, this.model[\"index\"](val)) : undefined})"
             ],
             "options_js": [
              "(function (val){return (val!=this.model[\"options_js\"]()) ? (this.valueFromJulia[\"options_js\"]=true, this.model[\"options_js\"](val)) : undefined})"
             ]
            },
            "id": "knockout-component-bdb44ff2-0a9b-46a8-b6dc-0451d1779f7c",
            "imports": {
             "data": [
              {
               "name": "knockout",
               "type": "js",
               "url": "/assetserver/e713c2274767bc67f2918d1c4bf1b0a8cb356e9a-knockout.js"
              },
              {
               "name": "knockout_punches",
               "type": "js",
               "url": "/assetserver/db898cdcbffe65bd5a5dd3e9cfbad1225a950e7c-knockout_punches.js"
              },
              {
               "name": null,
               "type": "js",
               "url": "/assetserver/84d4978c0d5058ec9739ad10567975a6f8cefb95-all.js"
              },
              {
               "name": null,
               "type": "css",
               "url": "/assetserver/6e2f0aeda65570f8582fcee9c6f303058d3220ff-style.css"
              },
              {
               "name": null,
               "type": "css",
               "url": "/assetserver/bfa247a701d2e1219718e9e755a115e20e4d1cd4-main.css"
              }
             ],
             "type": "async_block"
            },
            "observables": {
             "index": {
              "id": "ob_09",
              "sync": true,
              "value": 1
             },
             "options_js": {
              "id": "ob_10",
              "sync": false,
              "value": [
               {
                "id": "id6Uv4HNNV",
                "key": "sin",
                "val": 1
               },
               {
                "id": "idfHneo8Jj",
                "key": "cos",
                "val": 2
               }
              ]
             }
            },
            "systemjs_options": null
           },
           "nodeType": "Scope",
           "props": {},
           "type": "node"
          }
         ],
         "instanceArgs": {
          "namespace": "html",
          "tag": "div"
         },
         "nodeType": "DOM",
         "props": {
          "className": "field"
         },
         "type": "node"
        },
        {
         "children": [
          {
           "children": [
            {
             "children": [
              {
               "children": [
                {
                 "children": [],
                 "instanceArgs": {
                  "namespace": "html",
                  "tag": "input"
                 },
                 "nodeType": "DOM",
                 "props": {
                  "attributes": {
                   "data-bind": "checked: value, valueUpdate: 'change', event: {change : function () {this.changes(this.changes()+1)}}",
                   "type": "checkbox"
                  },
                  "className": "switch ",
                  "id": "##361",
                  "style": {}
                 },
                 "type": "node"
                },
                {
                 "children": [
                  "both"
                 ],
                 "instanceArgs": {
                  "namespace": "html",
                  "tag": "label"
                 },
                 "nodeType": "DOM",
                 "props": {
                  "attributes": {
                   "className": "",
                   "for": "##361"
                  }
                 },
                 "type": "node"
                }
               ],
               "instanceArgs": {
                "namespace": "html",
                "tag": "div"
               },
               "nodeType": "DOM",
               "props": {
                "className": "field"
               },
               "type": "node"
              }
             ],
             "instanceArgs": {
              "handlers": {
               "_promises": {
                "importsLoaded": [
                 "function (ko, koPunches) {\n    ko.punches.enableAll();\n    ko.bindingHandlers.numericValue = {\n        init : function(element, valueAccessor, allBindings, data, context) {\n            var stringified = ko.observable(ko.unwrap(valueAccessor()));\n            stringified.subscribe(function(value) {\n                var val = parseFloat(value);\n                if (!isNaN(val)) {\n                    valueAccessor()(val);\n                }\n            })\n            valueAccessor().subscribe(function(value) {\n                var str = JSON.stringify(value);\n                if ((str == \"0\") && ([\"-0\", \"-0.\"].indexOf(stringified()) >= 0))\n                     return;\n                 if ([\"null\", \"\"].indexOf(str) >= 0)\n                     return;\n                stringified(str);\n            })\n            ko.applyBindingsToNode(element, { value: stringified, valueUpdate: allBindings.get('valueUpdate')}, context);\n        }\n    };\n    var json_data = JSON.parse(\"{\\\"changes\\\":0,\\\"value\\\":false}\");\n    var self = this;\n    function AppViewModel() {\n        for (var key in json_data) {\n            var el = json_data[key];\n            this[key] = Array.isArray(el) ? ko.observableArray(el) : ko.observable(el);\n        }\n        \n        \n        [this[\"changes\"].subscribe((function (val){!(this.valueFromJulia[\"changes\"]) ? (_webIOScope.setObservableValue({\"name\":\"changes\",\"scope\":\"knockout-component-092c3f57-2124-46b0-9f20-146b931584d4\",\"id\":\"ob_12\",\"type\":\"observable\"},val)) : undefined; return this.valueFromJulia[\"changes\"]=false}),self),this[\"value\"].subscribe((function (val){!(this.valueFromJulia[\"value\"]) ? (_webIOScope.setObservableValue({\"name\":\"value\",\"scope\":\"knockout-component-092c3f57-2124-46b0-9f20-146b931584d4\",\"id\":\"ob_11\",\"type\":\"observable\"},val)) : undefined; return this.valueFromJulia[\"value\"]=false}),self)]\n        \n    }\n    self.model = new AppViewModel();\n    self.valueFromJulia = {};\n    for (var key in json_data) {\n        self.valueFromJulia[key] = false;\n    }\n    ko.applyBindings(self.model, self.dom);\n}\n"
                ]
               },
               "changes": [
                "(function (val){return (val!=this.model[\"changes\"]()) ? (this.valueFromJulia[\"changes\"]=true, this.model[\"changes\"](val)) : undefined})"
               ],
               "value": [
                "(function (val){return (val!=this.model[\"value\"]()) ? (this.valueFromJulia[\"value\"]=true, this.model[\"value\"](val)) : undefined})"
               ]
              },
              "id": "knockout-component-092c3f57-2124-46b0-9f20-146b931584d4",
              "imports": {
               "data": [
                {
                 "name": "knockout",
                 "type": "js",
                 "url": "/assetserver/e713c2274767bc67f2918d1c4bf1b0a8cb356e9a-knockout.js"
                },
                {
                 "name": "knockout_punches",
                 "type": "js",
                 "url": "/assetserver/db898cdcbffe65bd5a5dd3e9cfbad1225a950e7c-knockout_punches.js"
                },
                {
                 "name": null,
                 "type": "js",
                 "url": "/assetserver/84d4978c0d5058ec9739ad10567975a6f8cefb95-all.js"
                },
                {
                 "name": null,
                 "type": "css",
                 "url": "/assetserver/6e2f0aeda65570f8582fcee9c6f303058d3220ff-style.css"
                },
                {
                 "name": null,
                 "type": "css",
                 "url": "/assetserver/bfa247a701d2e1219718e9e755a115e20e4d1cd4-main.css"
                }
               ],
               "type": "async_block"
              },
              "observables": {
               "changes": {
                "id": "ob_12",
                "sync": false,
                "value": 0
               },
               "value": {
                "id": "ob_11",
                "sync": true,
                "value": false
               }
              },
              "systemjs_options": null
             },
             "nodeType": "Scope",
             "props": {},
             "type": "node"
            }
           ],
           "instanceArgs": {
            "namespace": "html",
            "tag": "div"
           },
           "nodeType": "DOM",
           "props": {
            "className": "field"
           },
           "type": "node"
          }
         ],
         "instanceArgs": {
          "namespace": "html",
          "tag": "div"
         },
         "nodeType": "DOM",
         "props": {
          "attributes": {
           "style": "display:flex; justify-content:center; align-items:center;"
          }
         },
         "type": "node"
        },
        {
         "children": [
          {
           "children": [],
           "instanceArgs": {
            "id": "ob_17",
            "name": "obs-node"
           },
           "nodeType": "ObservableNode",
           "props": {},
           "type": "node"
          }
         ],
         "instanceArgs": {
          "handlers": {},
          "id": "scope-d44f6401-1c47-43db-882f-ca3ccc439810",
          "imports": {
           "data": [],
           "type": "async_block"
          },
          "observables": {
           "obs-node": {
            "id": "ob_17",
            "sync": false,
            "value": {
             "children": [
              {
               "children": [],
               "instanceArgs": {
                "namespace": "html",
                "tag": "div"
               },
               "nodeType": "DOM",
               "props": {
                "setInnerHtml": "<?xml version=\"1.0\" encoding=\"utf-8\"?>\n<svg xmlns=\"http://www.w3.org/2000/svg\" xmlns:xlink=\"http://www.w3.org/1999/xlink\" width=\"600\" height=\"400\" viewBox=\"0 0 2400 1600\">\n<defs>\n  <clipPath id=\"clip5700\">\n    <rect x=\"0\" y=\"0\" width=\"2000\" height=\"2000\"/>\n  </clipPath>\n</defs>\n<defs>\n  <clipPath id=\"clip5701\">\n    <rect x=\"0\" y=\"0\" width=\"2400\" height=\"1600\"/>\n  </clipPath>\n</defs>\n<polygon clip-path=\"url(#clip5701)\" points=\"\n0,1600 2400,1600 2400,0 0,0 \n  \" fill=\"#ffffff\" fill-rule=\"evenodd\" fill-opacity=\"1\"/>\n<defs>\n  <clipPath id=\"clip5702\">\n    <rect x=\"480\" y=\"0\" width=\"1681\" height=\"1600\"/>\n  </clipPath>\n</defs>\n<polygon clip-path=\"url(#clip5701)\" points=\"\n189.504,1503.47 2321.26,1503.47 2321.26,47.2441 189.504,47.2441 \n  \" fill=\"#ffffff\" fill-rule=\"evenodd\" fill-opacity=\"1\"/>\n<defs>\n  <clipPath id=\"clip5703\">\n    <rect x=\"189\" y=\"47\" width=\"2133\" height=\"1457\"/>\n  </clipPath>\n</defs>\n<polyline clip-path=\"url(#clip5703)\" style=\"stroke:#000000; stroke-width:2; stroke-opacity:0.1; fill:none\" points=\"\n  244.899,1503.47 244.899,47.2441 \n  \"/>\n<polyline clip-path=\"url(#clip5703)\" style=\"stroke:#000000; stroke-width:2; stroke-opacity:0.1; fill:none\" points=\"\n  750.513,1503.47 750.513,47.2441 \n  \"/>\n<polyline clip-path=\"url(#clip5703)\" style=\"stroke:#000000; stroke-width:2; stroke-opacity:0.1; fill:none\" points=\"\n  1256.13,1503.47 1256.13,47.2441 \n  \"/>\n<polyline clip-path=\"url(#clip5703)\" style=\"stroke:#000000; stroke-width:2; stroke-opacity:0.1; fill:none\" points=\"\n  1761.74,1503.47 1761.74,47.2441 \n  \"/>\n<polyline clip-path=\"url(#clip5703)\" style=\"stroke:#000000; stroke-width:2; stroke-opacity:0.1; fill:none\" points=\"\n  2267.35,1503.47 2267.35,47.2441 \n  \"/>\n<polyline clip-path=\"url(#clip5703)\" style=\"stroke:#000000; stroke-width:2; stroke-opacity:0.1; fill:none\" points=\"\n  189.504,1462.99 2321.26,1462.99 \n  \"/>\n<polyline clip-path=\"url(#clip5703)\" style=\"stroke:#000000; stroke-width:2; stroke-opacity:0.1; fill:none\" points=\"\n  189.504,1119.27 2321.26,1119.27 \n  \"/>\n<polyline clip-path=\"url(#clip5703)\" style=\"stroke:#000000; stroke-width:2; stroke-opacity:0.1; fill:none\" points=\"\n  189.504,775.56 2321.26,775.56 \n  \"/>\n<polyline clip-path=\"url(#clip5703)\" style=\"stroke:#000000; stroke-width:2; stroke-opacity:0.1; fill:none\" points=\"\n  189.504,431.845 2321.26,431.845 \n  \"/>\n<polyline clip-path=\"url(#clip5703)\" style=\"stroke:#000000; stroke-width:2; stroke-opacity:0.1; fill:none\" points=\"\n  189.504,88.13 2321.26,88.13 \n  \"/>\n<polyline clip-path=\"url(#clip5701)\" style=\"stroke:#000000; stroke-width:4; stroke-opacity:1; fill:none\" points=\"\n  189.504,1503.47 2321.26,1503.47 \n  \"/>\n<polyline clip-path=\"url(#clip5701)\" style=\"stroke:#000000; stroke-width:4; stroke-opacity:1; fill:none\" points=\"\n  189.504,1503.47 189.504,47.2441 \n  \"/>\n<polyline clip-path=\"url(#clip5701)\" style=\"stroke:#000000; stroke-width:4; stroke-opacity:1; fill:none\" points=\"\n  244.899,1503.47 244.899,1481.63 \n  \"/>\n<polyline clip-path=\"url(#clip5701)\" style=\"stroke:#000000; stroke-width:4; stroke-opacity:1; fill:none\" points=\"\n  750.513,1503.47 750.513,1481.63 \n  \"/>\n<polyline clip-path=\"url(#clip5701)\" style=\"stroke:#000000; stroke-width:4; stroke-opacity:1; fill:none\" points=\"\n  1256.13,1503.47 1256.13,1481.63 \n  \"/>\n<polyline clip-path=\"url(#clip5701)\" style=\"stroke:#000000; stroke-width:4; stroke-opacity:1; fill:none\" points=\"\n  1761.74,1503.47 1761.74,1481.63 \n  \"/>\n<polyline clip-path=\"url(#clip5701)\" style=\"stroke:#000000; stroke-width:4; stroke-opacity:1; fill:none\" points=\"\n  2267.35,1503.47 2267.35,1481.63 \n  \"/>\n<polyline clip-path=\"url(#clip5701)\" style=\"stroke:#000000; stroke-width:4; stroke-opacity:1; fill:none\" points=\"\n  189.504,1462.99 221.48,1462.99 \n  \"/>\n<polyline clip-path=\"url(#clip5701)\" style=\"stroke:#000000; stroke-width:4; stroke-opacity:1; fill:none\" points=\"\n  189.504,1119.27 221.48,1119.27 \n  \"/>\n<polyline clip-path=\"url(#clip5701)\" style=\"stroke:#000000; stroke-width:4; stroke-opacity:1; fill:none\" points=\"\n  189.504,775.56 221.48,775.56 \n  \"/>\n<polyline clip-path=\"url(#clip5701)\" style=\"stroke:#000000; stroke-width:4; stroke-opacity:1; fill:none\" points=\"\n  189.504,431.845 221.48,431.845 \n  \"/>\n<polyline clip-path=\"url(#clip5701)\" style=\"stroke:#000000; stroke-width:4; stroke-opacity:1; fill:none\" points=\"\n  189.504,88.13 221.48,88.13 \n  \"/>\n<g clip-path=\"url(#clip5701)\">\n<text style=\"fill:#000000; fill-opacity:1; font-family:Arial,Helvetica Neue,Helvetica,sans-serif; font-size:48px; text-anchor:middle;\" transform=\"rotate(0, 244.899, 1557.47)\" x=\"244.899\" y=\"1557.47\">0</text>\n</g>\n<g clip-path=\"url(#clip5701)\">\n<text style=\"fill:#000000; fill-opacity:1; font-family:Arial,Helvetica Neue,Helvetica,sans-serif; font-size:48px; text-anchor:middle;\" transform=\"rotate(0, 750.513, 1557.47)\" x=\"750.513\" y=\"1557.47\">2</text>\n</g>\n<g clip-path=\"url(#clip5701)\">\n<text style=\"fill:#000000; fill-opacity:1; font-family:Arial,Helvetica Neue,Helvetica,sans-serif; font-size:48px; text-anchor:middle;\" transform=\"rotate(0, 1256.13, 1557.47)\" x=\"1256.13\" y=\"1557.47\">4</text>\n</g>\n<g clip-path=\"url(#clip5701)\">\n<text style=\"fill:#000000; fill-opacity:1; font-family:Arial,Helvetica Neue,Helvetica,sans-serif; font-size:48px; text-anchor:middle;\" transform=\"rotate(0, 1761.74, 1557.47)\" x=\"1761.74\" y=\"1557.47\">6</text>\n</g>\n<g clip-path=\"url(#clip5701)\">\n<text style=\"fill:#000000; fill-opacity:1; font-family:Arial,Helvetica Neue,Helvetica,sans-serif; font-size:48px; text-anchor:middle;\" transform=\"rotate(0, 2267.35, 1557.47)\" x=\"2267.35\" y=\"1557.47\">8</text>\n</g>\n<g clip-path=\"url(#clip5701)\">\n<text style=\"fill:#000000; fill-opacity:1; font-family:Arial,Helvetica Neue,Helvetica,sans-serif; font-size:48px; text-anchor:end;\" transform=\"rotate(0, 165.504, 1480.49)\" x=\"165.504\" y=\"1480.49\">-1.0</text>\n</g>\n<g clip-path=\"url(#clip5701)\">\n<text style=\"fill:#000000; fill-opacity:1; font-family:Arial,Helvetica Neue,Helvetica,sans-serif; font-size:48px; text-anchor:end;\" transform=\"rotate(0, 165.504, 1136.77)\" x=\"165.504\" y=\"1136.77\">-0.5</text>\n</g>\n<g clip-path=\"url(#clip5701)\">\n<text style=\"fill:#000000; fill-opacity:1; font-family:Arial,Helvetica Neue,Helvetica,sans-serif; font-size:48px; text-anchor:end;\" transform=\"rotate(0, 165.504, 793.06)\" x=\"165.504\" y=\"793.06\">0.0</text>\n</g>\n<g clip-path=\"url(#clip5701)\">\n<text style=\"fill:#000000; fill-opacity:1; font-family:Arial,Helvetica Neue,Helvetica,sans-serif; font-size:48px; text-anchor:end;\" transform=\"rotate(0, 165.504, 449.345)\" x=\"165.504\" y=\"449.345\">0.5</text>\n</g>\n<g clip-path=\"url(#clip5701)\">\n<text style=\"fill:#000000; fill-opacity:1; font-family:Arial,Helvetica Neue,Helvetica,sans-serif; font-size:48px; text-anchor:end;\" transform=\"rotate(0, 165.504, 105.63)\" x=\"165.504\" y=\"105.63\">1.0</text>\n</g>\n<polyline clip-path=\"url(#clip5703)\" style=\"stroke:#009af9; stroke-width:4; stroke-opacity:1; fill:none\" points=\"\n  249.837,762.134 254.775,748.713 259.712,735.303 264.65,721.908 310.306,599.682 355.963,483.177 378.791,428.265 401.619,376.183 424.448,327.355 447.276,282.179 \n  474.713,233.232 502.151,190.667 529.589,154.984 557.026,126.604 580.224,108.556 603.423,96.121 626.621,89.4028 649.819,88.4582 675.019,93.9824 700.218,106.273 \n  725.418,125.209 750.618,150.601 773.85,179.513 797.081,213.456 820.313,252.142 843.545,295.245 868.452,345.948 893.359,400.818 918.266,459.323 943.173,520.894 \n  1000.89,672.009 1058.6,828.498 1109.89,965.513 1161.18,1094.74 1183.67,1147.56 1206.16,1197.45 1228.65,1243.99 1251.14,1286.84 1275.65,1328.93 1300.17,1365.82 \n  1324.69,1397.17 1349.21,1422.67 1373.87,1442.19 1398.54,1455.37 1423.2,1462.08 1447.86,1462.26 1475.13,1454.86 1502.4,1439.57 1529.67,1416.56 1556.94,1386.09 \n  1582.89,1350.51 1608.83,1308.88 1634.78,1261.64 1660.72,1209.28 1687.7,1150.01 1714.68,1086.48 1741.66,1019.41 1768.64,949.563 1814.06,827.923 1859.47,704.597 \n  1914.93,557.52 1970.38,420.89 1996.44,362.171 2022.5,307.842 2048.57,258.48 2074.63,214.608 2095.51,183.743 2116.38,156.91 2137.26,134.295 2158.14,116.051 \n  2179.02,102.302 2199.89,93.1413 2220.77,88.6325 2241.65,88.8058 2248.08,89.8022 2254.5,91.2416 2260.93,93.1231 \n  \"/>\n<polygon clip-path=\"url(#clip5701)\" points=\"\n1958.43,251.724 2249.26,251.724 2249.26,130.764 1958.43,130.764 \n  \" fill=\"#ffffff\" fill-rule=\"evenodd\" fill-opacity=\"1\"/>\n<polyline clip-path=\"url(#clip5701)\" style=\"stroke:#000000; stroke-width:4; stroke-opacity:1; fill:none\" points=\"\n  1958.43,251.724 2249.26,251.724 2249.26,130.764 1958.43,130.764 1958.43,251.724 \n  \"/>\n<polyline clip-path=\"url(#clip5701)\" style=\"stroke:#009af9; stroke-width:4; stroke-opacity:1; fill:none\" points=\"\n  1982.43,191.244 2126.43,191.244 \n  \"/>\n<g clip-path=\"url(#clip5701)\">\n<text style=\"fill:#000000; fill-opacity:1; font-family:Arial,Helvetica Neue,Helvetica,sans-serif; font-size:48px; text-anchor:start;\" transform=\"rotate(0, 2150.43, 208.744)\" x=\"2150.43\" y=\"208.744\">y1</text>\n</g>\n</svg>\n"
               },
               "type": "node"
              }
             ],
             "instanceArgs": {
              "namespace": "html",
              "tag": "div"
             },
             "nodeType": "DOM",
             "props": {
              "attributes": {
               "style": "display:flex; justify-content:center; align-items:center;"
              }
             },
             "type": "node"
            }
           }
          },
          "systemjs_options": null
         },
         "nodeType": "Scope",
         "props": {},
         "type": "node"
        }
       ],
       "instanceArgs": {
        "namespace": "html",
        "tag": "div"
       },
       "nodeType": "DOM",
       "props": {},
       "type": "node"
      },
      "text/html": [
       "<div\n",
       "    class=\"webio-mountpoint\"\n",
       "    data-webio-mountpoint=\"12559848050839514960\"\n",
       ">\n",
       "    <script>\n",
       "    if (window.require && require.defined && require.defined(\"nbextensions/webio/main\")) {\n",
       "        console.log(\"Jupyter WebIO extension detected, not mounting.\");\n",
       "    } else if (window.WebIO) {\n",
       "        WebIO.mount(\n",
       "            document.querySelector('[data-webio-mountpoint=\"12559848050839514960\"]'),\n",
       "            {\"props\":{},\"nodeType\":\"DOM\",\"type\":\"node\",\"instanceArgs\":{\"namespace\":\"html\",\"tag\":\"div\"},\"children\":[{\"props\":{\"className\":\"field\"},\"nodeType\":\"DOM\",\"type\":\"node\",\"instanceArgs\":{\"namespace\":\"html\",\"tag\":\"div\"},\"children\":[{\"props\":{},\"nodeType\":\"Scope\",\"type\":\"node\",\"instanceArgs\":{\"imports\":{\"data\":[{\"name\":\"knockout\",\"type\":\"js\",\"url\":\"\\/assetserver\\/e713c2274767bc67f2918d1c4bf1b0a8cb356e9a-knockout.js\"},{\"name\":\"knockout_punches\",\"type\":\"js\",\"url\":\"\\/assetserver\\/db898cdcbffe65bd5a5dd3e9cfbad1225a950e7c-knockout_punches.js\"},{\"name\":null,\"type\":\"js\",\"url\":\"\\/assetserver\\/84d4978c0d5058ec9739ad10567975a6f8cefb95-all.js\"},{\"name\":null,\"type\":\"css\",\"url\":\"\\/assetserver\\/6e2f0aeda65570f8582fcee9c6f303058d3220ff-style.css\"},{\"name\":null,\"type\":\"css\",\"url\":\"\\/assetserver\\/bfa247a701d2e1219718e9e755a115e20e4d1cd4-main.css\"}],\"type\":\"async_block\"},\"id\":\"knockout-component-faa129d5-df16-43c1-8887-131782bf052b\",\"handlers\":{\"formatted_vals\":[\"(function (val){return (val!=this.model[\\\"formatted_vals\\\"]()) ? (this.valueFromJulia[\\\"formatted_vals\\\"]=true, this.model[\\\"formatted_vals\\\"](val)) : undefined})\"],\"_promises\":{\"importsLoaded\":[\"function (ko, koPunches) {\\n    ko.punches.enableAll();\\n    ko.bindingHandlers.numericValue = {\\n        init : function(element, valueAccessor, allBindings, data, context) {\\n            var stringified = ko.observable(ko.unwrap(valueAccessor()));\\n            stringified.subscribe(function(value) {\\n                var val = parseFloat(value);\\n                if (!isNaN(val)) {\\n                    valueAccessor()(val);\\n                }\\n            })\\n            valueAccessor().subscribe(function(value) {\\n                var str = JSON.stringify(value);\\n                if ((str == \\\"0\\\") && ([\\\"-0\\\", \\\"-0.\\\"].indexOf(stringified()) >= 0))\\n                     return;\\n                 if ([\\\"null\\\", \\\"\\\"].indexOf(str) >= 0)\\n                     return;\\n                stringified(str);\\n            })\\n            ko.applyBindingsToNode(element, { value: stringified, valueUpdate: allBindings.get('valueUpdate')}, context);\\n        }\\n    };\\n    var json_data = JSON.parse(\\\"{\\\\\\\"formatted_vals\\\\\\\":[\\\\\\\"0.0\\\\\\\",\\\\\\\"0.19635\\\\\\\",\\\\\\\"0.392699\\\\\\\",\\\\\\\"0.589049\\\\\\\",\\\\\\\"0.785398\\\\\\\",\\\\\\\"0.981748\\\\\\\",\\\\\\\"1.1781\\\\\\\",\\\\\\\"1.37445\\\\\\\",\\\\\\\"1.5708\\\\\\\",\\\\\\\"1.76715\\\\\\\",\\\\\\\"1.9635\\\\\\\",\\\\\\\"2.15984\\\\\\\",\\\\\\\"2.35619\\\\\\\",\\\\\\\"2.55254\\\\\\\",\\\\\\\"2.74889\\\\\\\",\\\\\\\"2.94524\\\\\\\",\\\\\\\"3.14159\\\\\\\",\\\\\\\"3.33794\\\\\\\",\\\\\\\"3.53429\\\\\\\",\\\\\\\"3.73064\\\\\\\",\\\\\\\"3.92699\\\\\\\",\\\\\\\"4.12334\\\\\\\",\\\\\\\"4.31969\\\\\\\",\\\\\\\"4.51604\\\\\\\",\\\\\\\"4.71239\\\\\\\",\\\\\\\"4.90874\\\\\\\",\\\\\\\"5.10509\\\\\\\",\\\\\\\"5.30144\\\\\\\",\\\\\\\"5.49779\\\\\\\",\\\\\\\"5.69414\\\\\\\",\\\\\\\"5.89049\\\\\\\",\\\\\\\"6.08684\\\\\\\",\\\\\\\"6.28319\\\\\\\",\\\\\\\"6.47953\\\\\\\",\\\\\\\"6.67588\\\\\\\",\\\\\\\"6.87223\\\\\\\",\\\\\\\"7.06858\\\\\\\",\\\\\\\"7.26493\\\\\\\",\\\\\\\"7.46128\\\\\\\",\\\\\\\"7.65763\\\\\\\",\\\\\\\"7.85398\\\\\\\",\\\\\\\"8.05033\\\\\\\",\\\\\\\"8.24668\\\\\\\",\\\\\\\"8.44303\\\\\\\",\\\\\\\"8.63938\\\\\\\",\\\\\\\"8.83573\\\\\\\",\\\\\\\"9.03208\\\\\\\",\\\\\\\"9.22843\\\\\\\",\\\\\\\"9.42478\\\\\\\",\\\\\\\"9.62113\\\\\\\",\\\\\\\"9.81748\\\\\\\",\\\\\\\"10.0138\\\\\\\",\\\\\\\"10.2102\\\\\\\",\\\\\\\"10.4065\\\\\\\",\\\\\\\"10.6029\\\\\\\",\\\\\\\"10.7992\\\\\\\",\\\\\\\"10.9956\\\\\\\",\\\\\\\"11.1919\\\\\\\",\\\\\\\"11.3883\\\\\\\",\\\\\\\"11.5846\\\\\\\",\\\\\\\"11.781\\\\\\\",\\\\\\\"11.9773\\\\\\\",\\\\\\\"12.1737\\\\\\\",\\\\\\\"12.37\\\\\\\",\\\\\\\"12.5664\\\\\\\"],\\\\\\\"changes\\\\\\\":0,\\\\\\\"formatted_value\\\\\\\":\\\\\\\"6.28319\\\\\\\",\\\\\\\"index\\\\\\\":33}\\\");\\n    var self = this;\\n    function AppViewModel() {\\n        for (var key in json_data) {\\n            var el = json_data[key];\\n            this[key] = Array.isArray(el) ? ko.observableArray(el) : ko.observable(el);\\n        }\\n        \\n        \\n        [this[\\\"formatted_vals\\\"].subscribe((function (val){!(this.valueFromJulia[\\\"formatted_vals\\\"]) ? (_webIOScope.setObservableValue({\\\"name\\\":\\\"formatted_vals\\\",\\\"scope\\\":\\\"knockout-component-faa129d5-df16-43c1-8887-131782bf052b\\\",\\\"id\\\":\\\"ob_03\\\",\\\"type\\\":\\\"observable\\\"},val)) : undefined; return this.valueFromJulia[\\\"formatted_vals\\\"]=false}),self),this[\\\"changes\\\"].subscribe((function (val){!(this.valueFromJulia[\\\"changes\\\"]) ? (_webIOScope.setObservableValue({\\\"name\\\":\\\"changes\\\",\\\"scope\\\":\\\"knockout-component-faa129d5-df16-43c1-8887-131782bf052b\\\",\\\"id\\\":\\\"ob_05\\\",\\\"type\\\":\\\"observable\\\"},val)) : undefined; return this.valueFromJulia[\\\"changes\\\"]=false}),self),this[\\\"formatted_value\\\"].subscribe((function (val){!(this.valueFromJulia[\\\"formatted_value\\\"]) ? (_webIOScope.setObservableValue({\\\"name\\\":\\\"formatted_value\\\",\\\"scope\\\":\\\"knockout-component-faa129d5-df16-43c1-8887-131782bf052b\\\",\\\"id\\\":\\\"ob_04\\\",\\\"type\\\":\\\"observable\\\"},val)) : undefined; return this.valueFromJulia[\\\"formatted_value\\\"]=false}),self),this[\\\"index\\\"].subscribe((function (val){!(this.valueFromJulia[\\\"index\\\"]) ? (_webIOScope.setObservableValue({\\\"name\\\":\\\"index\\\",\\\"scope\\\":\\\"knockout-component-faa129d5-df16-43c1-8887-131782bf052b\\\",\\\"id\\\":\\\"ob_02\\\",\\\"type\\\":\\\"observable\\\"},val)) : undefined; return this.valueFromJulia[\\\"index\\\"]=false}),self)]\\n        \\n    }\\n    self.model = new AppViewModel();\\n    self.valueFromJulia = {};\\n    for (var key in json_data) {\\n        self.valueFromJulia[key] = false;\\n    }\\n    ko.applyBindings(self.model, self.dom);\\n}\\n\"]},\"changes\":[\"(function (val){return (val!=this.model[\\\"changes\\\"]()) ? (this.valueFromJulia[\\\"changes\\\"]=true, this.model[\\\"changes\\\"](val)) : undefined})\"],\"formatted_value\":[\"(function (val){return (val!=this.model[\\\"formatted_value\\\"]()) ? (this.valueFromJulia[\\\"formatted_value\\\"]=true, this.model[\\\"formatted_value\\\"](val)) : undefined})\"],\"index\":[\"(function (val){return (val!=this.model[\\\"index\\\"]()) ? (this.valueFromJulia[\\\"index\\\"]=true, this.model[\\\"index\\\"](val)) : undefined})\",\"(function (val){return _webIOScope.setObservableValue({\\\"name\\\":\\\"formatted_value\\\",\\\"scope\\\":\\\"knockout-component-faa129d5-df16-43c1-8887-131782bf052b\\\",\\\"id\\\":\\\"ob_04\\\",\\\"type\\\":\\\"observable\\\"},_webIOScope.getObservableValue({\\\"name\\\":\\\"formatted_vals\\\",\\\"scope\\\":\\\"knockout-component-faa129d5-df16-43c1-8887-131782bf052b\\\",\\\"id\\\":\\\"ob_03\\\",\\\"type\\\":\\\"observable\\\"})[(_webIOScope.getObservableValue({\\\"name\\\":\\\"index\\\",\\\"scope\\\":\\\"knockout-component-faa129d5-df16-43c1-8887-131782bf052b\\\",\\\"id\\\":\\\"ob_02\\\",\\\"type\\\":\\\"observable\\\"})-1)])})\"]},\"systemjs_options\":null,\"observables\":{\"formatted_vals\":{\"sync\":false,\"id\":\"ob_03\",\"value\":[\"0.0\",\"0.19635\",\"0.392699\",\"0.589049\",\"0.785398\",\"0.981748\",\"1.1781\",\"1.37445\",\"1.5708\",\"1.76715\",\"1.9635\",\"2.15984\",\"2.35619\",\"2.55254\",\"2.74889\",\"2.94524\",\"3.14159\",\"3.33794\",\"3.53429\",\"3.73064\",\"3.92699\",\"4.12334\",\"4.31969\",\"4.51604\",\"4.71239\",\"4.90874\",\"5.10509\",\"5.30144\",\"5.49779\",\"5.69414\",\"5.89049\",\"6.08684\",\"6.28319\",\"6.47953\",\"6.67588\",\"6.87223\",\"7.06858\",\"7.26493\",\"7.46128\",\"7.65763\",\"7.85398\",\"8.05033\",\"8.24668\",\"8.44303\",\"8.63938\",\"8.83573\",\"9.03208\",\"9.22843\",\"9.42478\",\"9.62113\",\"9.81748\",\"10.0138\",\"10.2102\",\"10.4065\",\"10.6029\",\"10.7992\",\"10.9956\",\"11.1919\",\"11.3883\",\"11.5846\",\"11.781\",\"11.9773\",\"12.1737\",\"12.37\",\"12.5664\"]},\"changes\":{\"sync\":false,\"id\":\"ob_05\",\"value\":0},\"formatted_value\":{\"sync\":false,\"id\":\"ob_04\",\"value\":\"6.28319\"},\"index\":{\"sync\":true,\"id\":\"ob_02\",\"value\":33}}},\"children\":[{\"props\":{\"attributes\":{\"style\":\"display:flex; justify-content:center; align-items:center;\"}},\"nodeType\":\"DOM\",\"type\":\"node\",\"instanceArgs\":{\"namespace\":\"html\",\"tag\":\"div\"},\"children\":[{\"props\":{\"attributes\":{\"style\":\"text-align:right;width:18%\"}},\"nodeType\":\"DOM\",\"type\":\"node\",\"instanceArgs\":{\"namespace\":\"html\",\"tag\":\"div\"},\"children\":[{\"props\":{\"className\":\"interact \",\"style\":{\"padding\":\"5px 10px 0px 10px\"}},\"nodeType\":\"DOM\",\"type\":\"node\",\"instanceArgs\":{\"namespace\":\"html\",\"tag\":\"label\"},\"children\":[\"ϕ\"]}]},{\"props\":{\"attributes\":{\"style\":\"flex-grow:1; margin: 0 2%\"}},\"nodeType\":\"DOM\",\"type\":\"node\",\"instanceArgs\":{\"namespace\":\"html\",\"tag\":\"div\"},\"children\":[{\"props\":{\"max\":65,\"min\":1,\"attributes\":{\"type\":\"range\",\"data-bind\":\"numericValue: index, valueUpdate: 'input', event: {change : function () {this.changes(this.changes()+1)}}\",\"orient\":\"horizontal\"},\"step\":1,\"className\":\"slider slider is-fullwidth\",\"style\":{}},\"nodeType\":\"DOM\",\"type\":\"node\",\"instanceArgs\":{\"namespace\":\"html\",\"tag\":\"input\"},\"children\":[]}]},{\"props\":{\"attributes\":{\"style\":\"width:18%\"}},\"nodeType\":\"DOM\",\"type\":\"node\",\"instanceArgs\":{\"namespace\":\"html\",\"tag\":\"div\"},\"children\":[{\"props\":{\"attributes\":{\"data-bind\":\"text: formatted_value\"}},\"nodeType\":\"DOM\",\"type\":\"node\",\"instanceArgs\":{\"namespace\":\"html\",\"tag\":\"p\"},\"children\":[]}]}]}]}]},{\"props\":{\"className\":\"field\"},\"nodeType\":\"DOM\",\"type\":\"node\",\"instanceArgs\":{\"namespace\":\"html\",\"tag\":\"div\"},\"children\":[{\"props\":{},\"nodeType\":\"Scope\",\"type\":\"node\",\"instanceArgs\":{\"imports\":{\"data\":[{\"name\":\"knockout\",\"type\":\"js\",\"url\":\"\\/assetserver\\/e713c2274767bc67f2918d1c4bf1b0a8cb356e9a-knockout.js\"},{\"name\":\"knockout_punches\",\"type\":\"js\",\"url\":\"\\/assetserver\\/db898cdcbffe65bd5a5dd3e9cfbad1225a950e7c-knockout_punches.js\"},{\"name\":null,\"type\":\"js\",\"url\":\"\\/assetserver\\/84d4978c0d5058ec9739ad10567975a6f8cefb95-all.js\"},{\"name\":null,\"type\":\"css\",\"url\":\"\\/assetserver\\/6e2f0aeda65570f8582fcee9c6f303058d3220ff-style.css\"},{\"name\":null,\"type\":\"css\",\"url\":\"\\/assetserver\\/bfa247a701d2e1219718e9e755a115e20e4d1cd4-main.css\"}],\"type\":\"async_block\"},\"id\":\"knockout-component-bdb44ff2-0a9b-46a8-b6dc-0451d1779f7c\",\"handlers\":{\"_promises\":{\"importsLoaded\":[\"function (ko, koPunches) {\\n    ko.punches.enableAll();\\n    ko.bindingHandlers.numericValue = {\\n        init : function(element, valueAccessor, allBindings, data, context) {\\n            var stringified = ko.observable(ko.unwrap(valueAccessor()));\\n            stringified.subscribe(function(value) {\\n                var val = parseFloat(value);\\n                if (!isNaN(val)) {\\n                    valueAccessor()(val);\\n                }\\n            })\\n            valueAccessor().subscribe(function(value) {\\n                var str = JSON.stringify(value);\\n                if ((str == \\\"0\\\") && ([\\\"-0\\\", \\\"-0.\\\"].indexOf(stringified()) >= 0))\\n                     return;\\n                 if ([\\\"null\\\", \\\"\\\"].indexOf(str) >= 0)\\n                     return;\\n                stringified(str);\\n            })\\n            ko.applyBindingsToNode(element, { value: stringified, valueUpdate: allBindings.get('valueUpdate')}, context);\\n        }\\n    };\\n    var json_data = JSON.parse(\\\"{\\\\\\\"options_js\\\\\\\":[{\\\\\\\"key\\\\\\\":\\\\\\\"sin\\\\\\\",\\\\\\\"val\\\\\\\":1,\\\\\\\"id\\\\\\\":\\\\\\\"id6Uv4HNNV\\\\\\\"},{\\\\\\\"key\\\\\\\":\\\\\\\"cos\\\\\\\",\\\\\\\"val\\\\\\\":2,\\\\\\\"id\\\\\\\":\\\\\\\"idfHneo8Jj\\\\\\\"}],\\\\\\\"index\\\\\\\":1}\\\");\\n    var self = this;\\n    function AppViewModel() {\\n        for (var key in json_data) {\\n            var el = json_data[key];\\n            this[key] = Array.isArray(el) ? ko.observableArray(el) : ko.observable(el);\\n        }\\n        \\n        \\n        [this[\\\"options_js\\\"].subscribe((function (val){!(this.valueFromJulia[\\\"options_js\\\"]) ? (_webIOScope.setObservableValue({\\\"name\\\":\\\"options_js\\\",\\\"scope\\\":\\\"knockout-component-bdb44ff2-0a9b-46a8-b6dc-0451d1779f7c\\\",\\\"id\\\":\\\"ob_10\\\",\\\"type\\\":\\\"observable\\\"},val)) : undefined; return this.valueFromJulia[\\\"options_js\\\"]=false}),self),this[\\\"index\\\"].subscribe((function (val){!(this.valueFromJulia[\\\"index\\\"]) ? (_webIOScope.setObservableValue({\\\"name\\\":\\\"index\\\",\\\"scope\\\":\\\"knockout-component-bdb44ff2-0a9b-46a8-b6dc-0451d1779f7c\\\",\\\"id\\\":\\\"ob_09\\\",\\\"type\\\":\\\"observable\\\"},val)) : undefined; return this.valueFromJulia[\\\"index\\\"]=false}),self)]\\n        \\n    }\\n    self.model = new AppViewModel();\\n    self.valueFromJulia = {};\\n    for (var key in json_data) {\\n        self.valueFromJulia[key] = false;\\n    }\\n    ko.applyBindings(self.model, self.dom);\\n}\\n\"]},\"options_js\":[\"(function (val){return (val!=this.model[\\\"options_js\\\"]()) ? (this.valueFromJulia[\\\"options_js\\\"]=true, this.model[\\\"options_js\\\"](val)) : undefined})\"],\"index\":[\"(function (val){return (val!=this.model[\\\"index\\\"]()) ? (this.valueFromJulia[\\\"index\\\"]=true, this.model[\\\"index\\\"](val)) : undefined})\"]},\"systemjs_options\":null,\"observables\":{\"options_js\":{\"sync\":false,\"id\":\"ob_10\",\"value\":[{\"key\":\"sin\",\"val\":1,\"id\":\"id6Uv4HNNV\"},{\"key\":\"cos\",\"val\":2,\"id\":\"idfHneo8Jj\"}]},\"index\":{\"sync\":true,\"id\":\"ob_09\",\"value\":1}}},\"children\":[{\"props\":{\"attributes\":{\"style\":\"display:flex; justify-content:center; align-items:center;\"}},\"nodeType\":\"DOM\",\"type\":\"node\",\"instanceArgs\":{\"namespace\":\"html\",\"tag\":\"div\"},\"children\":[{\"props\":{\"attributes\":{\"style\":\"text-align:right;width:18%\"}},\"nodeType\":\"DOM\",\"type\":\"node\",\"instanceArgs\":{\"namespace\":\"html\",\"tag\":\"div\"},\"children\":[{\"props\":{\"className\":\"interact \",\"style\":{\"padding\":\"5px 10px 0px 10px\"}},\"nodeType\":\"DOM\",\"type\":\"node\",\"instanceArgs\":{\"namespace\":\"html\",\"tag\":\"label\"},\"children\":[\"f\"]}]},{\"props\":{\"attributes\":{\"style\":\"flex-grow:1; margin: 0 2%\"}},\"nodeType\":\"DOM\",\"type\":\"node\",\"instanceArgs\":{\"namespace\":\"html\",\"tag\":\"div\"},\"children\":[{\"props\":{\"attributes\":{\"data-bind\":\"foreach : options_js\"},\"className\":\"field is-grouped has-addons is-oneline is-centered\"},\"nodeType\":\"DOM\",\"type\":\"node\",\"instanceArgs\":{\"namespace\":\"html\",\"tag\":\"div\"},\"children\":[{\"props\":{\"attributes\":{\"data-bind\":\"click: function () {$root.index(val)}, css: {'is-primary is-selected' : $root.index() == val, 'button is-fullwidth' : true}\"}},\"nodeType\":\"DOM\",\"type\":\"node\",\"instanceArgs\":{\"namespace\":\"html\",\"tag\":\"button\"},\"children\":[{\"props\":{\"attributes\":{\"data-bind\":\"text : key\"}},\"nodeType\":\"DOM\",\"type\":\"node\",\"instanceArgs\":{\"namespace\":\"html\",\"tag\":\"label\"},\"children\":[]}]}]}]},{\"props\":{\"attributes\":{\"style\":\"width:18%\"}},\"nodeType\":\"DOM\",\"type\":\"node\",\"instanceArgs\":{\"namespace\":\"html\",\"tag\":\"div\"},\"children\":[{\"props\":{},\"nodeType\":\"DOM\",\"type\":\"node\",\"instanceArgs\":{\"namespace\":\"html\",\"tag\":\"div\"},\"children\":[]}]}]}]}]},{\"props\":{\"attributes\":{\"style\":\"display:flex; justify-content:center; align-items:center;\"}},\"nodeType\":\"DOM\",\"type\":\"node\",\"instanceArgs\":{\"namespace\":\"html\",\"tag\":\"div\"},\"children\":[{\"props\":{\"className\":\"field\"},\"nodeType\":\"DOM\",\"type\":\"node\",\"instanceArgs\":{\"namespace\":\"html\",\"tag\":\"div\"},\"children\":[{\"props\":{},\"nodeType\":\"Scope\",\"type\":\"node\",\"instanceArgs\":{\"imports\":{\"data\":[{\"name\":\"knockout\",\"type\":\"js\",\"url\":\"\\/assetserver\\/e713c2274767bc67f2918d1c4bf1b0a8cb356e9a-knockout.js\"},{\"name\":\"knockout_punches\",\"type\":\"js\",\"url\":\"\\/assetserver\\/db898cdcbffe65bd5a5dd3e9cfbad1225a950e7c-knockout_punches.js\"},{\"name\":null,\"type\":\"js\",\"url\":\"\\/assetserver\\/84d4978c0d5058ec9739ad10567975a6f8cefb95-all.js\"},{\"name\":null,\"type\":\"css\",\"url\":\"\\/assetserver\\/6e2f0aeda65570f8582fcee9c6f303058d3220ff-style.css\"},{\"name\":null,\"type\":\"css\",\"url\":\"\\/assetserver\\/bfa247a701d2e1219718e9e755a115e20e4d1cd4-main.css\"}],\"type\":\"async_block\"},\"id\":\"knockout-component-092c3f57-2124-46b0-9f20-146b931584d4\",\"handlers\":{\"_promises\":{\"importsLoaded\":[\"function (ko, koPunches) {\\n    ko.punches.enableAll();\\n    ko.bindingHandlers.numericValue = {\\n        init : function(element, valueAccessor, allBindings, data, context) {\\n            var stringified = ko.observable(ko.unwrap(valueAccessor()));\\n            stringified.subscribe(function(value) {\\n                var val = parseFloat(value);\\n                if (!isNaN(val)) {\\n                    valueAccessor()(val);\\n                }\\n            })\\n            valueAccessor().subscribe(function(value) {\\n                var str = JSON.stringify(value);\\n                if ((str == \\\"0\\\") && ([\\\"-0\\\", \\\"-0.\\\"].indexOf(stringified()) >= 0))\\n                     return;\\n                 if ([\\\"null\\\", \\\"\\\"].indexOf(str) >= 0)\\n                     return;\\n                stringified(str);\\n            })\\n            ko.applyBindingsToNode(element, { value: stringified, valueUpdate: allBindings.get('valueUpdate')}, context);\\n        }\\n    };\\n    var json_data = JSON.parse(\\\"{\\\\\\\"changes\\\\\\\":0,\\\\\\\"value\\\\\\\":false}\\\");\\n    var self = this;\\n    function AppViewModel() {\\n        for (var key in json_data) {\\n            var el = json_data[key];\\n            this[key] = Array.isArray(el) ? ko.observableArray(el) : ko.observable(el);\\n        }\\n        \\n        \\n        [this[\\\"changes\\\"].subscribe((function (val){!(this.valueFromJulia[\\\"changes\\\"]) ? (_webIOScope.setObservableValue({\\\"name\\\":\\\"changes\\\",\\\"scope\\\":\\\"knockout-component-092c3f57-2124-46b0-9f20-146b931584d4\\\",\\\"id\\\":\\\"ob_12\\\",\\\"type\\\":\\\"observable\\\"},val)) : undefined; return this.valueFromJulia[\\\"changes\\\"]=false}),self),this[\\\"value\\\"].subscribe((function (val){!(this.valueFromJulia[\\\"value\\\"]) ? (_webIOScope.setObservableValue({\\\"name\\\":\\\"value\\\",\\\"scope\\\":\\\"knockout-component-092c3f57-2124-46b0-9f20-146b931584d4\\\",\\\"id\\\":\\\"ob_11\\\",\\\"type\\\":\\\"observable\\\"},val)) : undefined; return this.valueFromJulia[\\\"value\\\"]=false}),self)]\\n        \\n    }\\n    self.model = new AppViewModel();\\n    self.valueFromJulia = {};\\n    for (var key in json_data) {\\n        self.valueFromJulia[key] = false;\\n    }\\n    ko.applyBindings(self.model, self.dom);\\n}\\n\"]},\"changes\":[\"(function (val){return (val!=this.model[\\\"changes\\\"]()) ? (this.valueFromJulia[\\\"changes\\\"]=true, this.model[\\\"changes\\\"](val)) : undefined})\"],\"value\":[\"(function (val){return (val!=this.model[\\\"value\\\"]()) ? (this.valueFromJulia[\\\"value\\\"]=true, this.model[\\\"value\\\"](val)) : undefined})\"]},\"systemjs_options\":null,\"observables\":{\"changes\":{\"sync\":false,\"id\":\"ob_12\",\"value\":0},\"value\":{\"sync\":true,\"id\":\"ob_11\",\"value\":false}}},\"children\":[{\"props\":{\"className\":\"field\"},\"nodeType\":\"DOM\",\"type\":\"node\",\"instanceArgs\":{\"namespace\":\"html\",\"tag\":\"div\"},\"children\":[{\"props\":{\"attributes\":{\"type\":\"checkbox\",\"data-bind\":\"checked: value, valueUpdate: 'change', event: {change : function () {this.changes(this.changes()+1)}}\"},\"id\":\"##361\",\"className\":\"switch \",\"style\":{}},\"nodeType\":\"DOM\",\"type\":\"node\",\"instanceArgs\":{\"namespace\":\"html\",\"tag\":\"input\"},\"children\":[]},{\"props\":{\"attributes\":{\"className\":\"\",\"for\":\"##361\"}},\"nodeType\":\"DOM\",\"type\":\"node\",\"instanceArgs\":{\"namespace\":\"html\",\"tag\":\"label\"},\"children\":[\"both\"]}]}]}]}]},{\"props\":{},\"nodeType\":\"Scope\",\"type\":\"node\",\"instanceArgs\":{\"imports\":{\"data\":[],\"type\":\"async_block\"},\"id\":\"scope-9ff45ddf-fdd0-4aae-a969-48067b4f82e9\",\"handlers\":{},\"systemjs_options\":null,\"observables\":{\"obs-node\":{\"sync\":false,\"id\":\"ob_15\",\"value\":{\"props\":{\"attributes\":{\"style\":\"display:flex; justify-content:center; align-items:center;\"}},\"nodeType\":\"DOM\",\"type\":\"node\",\"instanceArgs\":{\"namespace\":\"html\",\"tag\":\"div\"},\"children\":[{\"props\":{\"setInnerHtml\":\"<?xml version=\\\"1.0\\\" encoding=\\\"utf-8\\\"?>\\n<svg xmlns=\\\"http:\\/\\/www.w3.org\\/2000\\/svg\\\" xmlns:xlink=\\\"http:\\/\\/www.w3.org\\/1999\\/xlink\\\" width=\\\"600\\\" height=\\\"400\\\" viewBox=\\\"0 0 2400 1600\\\">\\n<defs>\\n  <clipPath id=\\\"clip5500\\\">\\n    <rect x=\\\"0\\\" y=\\\"0\\\" width=\\\"2000\\\" height=\\\"2000\\\"\\/>\\n  <\\/clipPath>\\n<\\/defs>\\n<defs>\\n  <clipPath id=\\\"clip5501\\\">\\n    <rect x=\\\"0\\\" y=\\\"0\\\" width=\\\"2400\\\" height=\\\"1600\\\"\\/>\\n  <\\/clipPath>\\n<\\/defs>\\n<polygon clip-path=\\\"url(#clip5501)\\\" points=\\\"\\n0,1600 2400,1600 2400,0 0,0 \\n  \\\" fill=\\\"#ffffff\\\" fill-rule=\\\"evenodd\\\" fill-opacity=\\\"1\\\"\\/>\\n<defs>\\n  <clipPath id=\\\"clip5502\\\">\\n    <rect x=\\\"480\\\" y=\\\"0\\\" width=\\\"1681\\\" height=\\\"1600\\\"\\/>\\n  <\\/clipPath>\\n<\\/defs>\\n<polygon clip-path=\\\"url(#clip5501)\\\" points=\\\"\\n189.504,1503.47 2321.26,1503.47 2321.26,47.2441 189.504,47.2441 \\n  \\\" fill=\\\"#ffffff\\\" fill-rule=\\\"evenodd\\\" fill-opacity=\\\"1\\\"\\/>\\n<defs>\\n  <clipPath id=\\\"clip5503\\\">\\n    <rect x=\\\"189\\\" y=\\\"47\\\" width=\\\"2133\\\" height=\\\"1457\\\"\\/>\\n  <\\/clipPath>\\n<\\/defs>\\n<polyline clip-path=\\\"url(#clip5503)\\\" style=\\\"stroke:#000000; stroke-width:2; stroke-opacity:0.1; fill:none\\\" points=\\\"\\n  244.899,1503.47 244.899,47.2441 \\n  \\\"\\/>\\n<polyline clip-path=\\\"url(#clip5503)\\\" style=\\\"stroke:#000000; stroke-width:2; stroke-opacity:0.1; fill:none\\\" points=\\\"\\n  750.513,1503.47 750.513,47.2441 \\n  \\\"\\/>\\n<polyline clip-path=\\\"url(#clip5503)\\\" style=\\\"stroke:#000000; stroke-width:2; stroke-opacity:0.1; fill:none\\\" points=\\\"\\n  1256.13,1503.47 1256.13,47.2441 \\n  \\\"\\/>\\n<polyline clip-path=\\\"url(#clip5503)\\\" style=\\\"stroke:#000000; stroke-width:2; stroke-opacity:0.1; fill:none\\\" points=\\\"\\n  1761.74,1503.47 1761.74,47.2441 \\n  \\\"\\/>\\n<polyline clip-path=\\\"url(#clip5503)\\\" style=\\\"stroke:#000000; stroke-width:2; stroke-opacity:0.1; fill:none\\\" points=\\\"\\n  2267.35,1503.47 2267.35,47.2441 \\n  \\\"\\/>\\n<polyline clip-path=\\\"url(#clip5503)\\\" style=\\\"stroke:#000000; stroke-width:2; stroke-opacity:0.1; fill:none\\\" points=\\\"\\n  189.504,1462.99 2321.26,1462.99 \\n  \\\"\\/>\\n<polyline clip-path=\\\"url(#clip5503)\\\" style=\\\"stroke:#000000; stroke-width:2; stroke-opacity:0.1; fill:none\\\" points=\\\"\\n  189.504,1119.27 2321.26,1119.27 \\n  \\\"\\/>\\n<polyline clip-path=\\\"url(#clip5503)\\\" style=\\\"stroke:#000000; stroke-width:2; stroke-opacity:0.1; fill:none\\\" points=\\\"\\n  189.504,775.56 2321.26,775.56 \\n  \\\"\\/>\\n<polyline clip-path=\\\"url(#clip5503)\\\" style=\\\"stroke:#000000; stroke-width:2; stroke-opacity:0.1; fill:none\\\" points=\\\"\\n  189.504,431.845 2321.26,431.845 \\n  \\\"\\/>\\n<polyline clip-path=\\\"url(#clip5503)\\\" style=\\\"stroke:#000000; stroke-width:2; stroke-opacity:0.1; fill:none\\\" points=\\\"\\n  189.504,88.13 2321.26,88.13 \\n  \\\"\\/>\\n<polyline clip-path=\\\"url(#clip5501)\\\" style=\\\"stroke:#000000; stroke-width:4; stroke-opacity:1; fill:none\\\" points=\\\"\\n  189.504,1503.47 2321.26,1503.47 \\n  \\\"\\/>\\n<polyline clip-path=\\\"url(#clip5501)\\\" style=\\\"stroke:#000000; stroke-width:4; stroke-opacity:1; fill:none\\\" points=\\\"\\n  189.504,1503.47 189.504,47.2441 \\n  \\\"\\/>\\n<polyline clip-path=\\\"url(#clip5501)\\\" style=\\\"stroke:#000000; stroke-width:4; stroke-opacity:1; fill:none\\\" points=\\\"\\n  244.899,1503.47 244.899,1481.63 \\n  \\\"\\/>\\n<polyline clip-path=\\\"url(#clip5501)\\\" style=\\\"stroke:#000000; stroke-width:4; stroke-opacity:1; fill:none\\\" points=\\\"\\n  750.513,1503.47 750.513,1481.63 \\n  \\\"\\/>\\n<polyline clip-path=\\\"url(#clip5501)\\\" style=\\\"stroke:#000000; stroke-width:4; stroke-opacity:1; fill:none\\\" points=\\\"\\n  1256.13,1503.47 1256.13,1481.63 \\n  \\\"\\/>\\n<polyline clip-path=\\\"url(#clip5501)\\\" style=\\\"stroke:#000000; stroke-width:4; stroke-opacity:1; fill:none\\\" points=\\\"\\n  1761.74,1503.47 1761.74,1481.63 \\n  \\\"\\/>\\n<polyline clip-path=\\\"url(#clip5501)\\\" style=\\\"stroke:#000000; stroke-width:4; stroke-opacity:1; fill:none\\\" points=\\\"\\n  2267.35,1503.47 2267.35,1481.63 \\n  \\\"\\/>\\n<polyline clip-path=\\\"url(#clip5501)\\\" style=\\\"stroke:#000000; stroke-width:4; stroke-opacity:1; fill:none\\\" points=\\\"\\n  189.504,1462.99 221.48,1462.99 \\n  \\\"\\/>\\n<polyline clip-path=\\\"url(#clip5501)\\\" style=\\\"stroke:#000000; stroke-width:4; stroke-opacity:1; fill:none\\\" points=\\\"\\n  189.504,1119.27 221.48,1119.27 \\n  \\\"\\/>\\n<polyline clip-path=\\\"url(#clip5501)\\\" style=\\\"stroke:#000000; stroke-width:4; stroke-opacity:1; fill:none\\\" points=\\\"\\n  189.504,775.56 221.48,775.56 \\n  \\\"\\/>\\n<polyline clip-path=\\\"url(#clip5501)\\\" style=\\\"stroke:#000000; stroke-width:4; stroke-opacity:1; fill:none\\\" points=\\\"\\n  189.504,431.845 221.48,431.845 \\n  \\\"\\/>\\n<polyline clip-path=\\\"url(#clip5501)\\\" style=\\\"stroke:#000000; stroke-width:4; stroke-opacity:1; fill:none\\\" points=\\\"\\n  189.504,88.13 221.48,88.13 \\n  \\\"\\/>\\n<g clip-path=\\\"url(#clip5501)\\\">\\n<text style=\\\"fill:#000000; fill-opacity:1; font-family:Arial,Helvetica Neue,Helvetica,sans-serif; font-size:48px; text-anchor:middle;\\\" transform=\\\"rotate(0, 244.899, 1557.47)\\\" x=\\\"244.899\\\" y=\\\"1557.47\\\">0<\\/text>\\n<\\/g>\\n<g clip-path=\\\"url(#clip5501)\\\">\\n<text style=\\\"fill:#000000; fill-opacity:1; font-family:Arial,Helvetica Neue,Helvetica,sans-serif; font-size:48px; text-anchor:middle;\\\" transform=\\\"rotate(0, 750.513, 1557.47)\\\" x=\\\"750.513\\\" y=\\\"1557.47\\\">2<\\/text>\\n<\\/g>\\n<g clip-path=\\\"url(#clip5501)\\\">\\n<text style=\\\"fill:#000000; fill-opacity:1; font-family:Arial,Helvetica Neue,Helvetica,sans-serif; font-size:48px; text-anchor:middle;\\\" transform=\\\"rotate(0, 1256.13, 1557.47)\\\" x=\\\"1256.13\\\" y=\\\"1557.47\\\">4<\\/text>\\n<\\/g>\\n<g clip-path=\\\"url(#clip5501)\\\">\\n<text style=\\\"fill:#000000; fill-opacity:1; font-family:Arial,Helvetica Neue,Helvetica,sans-serif; font-size:48px; text-anchor:middle;\\\" transform=\\\"rotate(0, 1761.74, 1557.47)\\\" x=\\\"1761.74\\\" y=\\\"1557.47\\\">6<\\/text>\\n<\\/g>\\n<g clip-path=\\\"url(#clip5501)\\\">\\n<text style=\\\"fill:#000000; fill-opacity:1; font-family:Arial,Helvetica Neue,Helvetica,sans-serif; font-size:48px; text-anchor:middle;\\\" transform=\\\"rotate(0, 2267.35, 1557.47)\\\" x=\\\"2267.35\\\" y=\\\"1557.47\\\">8<\\/text>\\n<\\/g>\\n<g clip-path=\\\"url(#clip5501)\\\">\\n<text style=\\\"fill:#000000; fill-opacity:1; font-family:Arial,Helvetica Neue,Helvetica,sans-serif; font-size:48px; text-anchor:end;\\\" transform=\\\"rotate(0, 165.504, 1480.49)\\\" x=\\\"165.504\\\" y=\\\"1480.49\\\">-1.0<\\/text>\\n<\\/g>\\n<g clip-path=\\\"url(#clip5501)\\\">\\n<text style=\\\"fill:#000000; fill-opacity:1; font-family:Arial,Helvetica Neue,Helvetica,sans-serif; font-size:48px; text-anchor:end;\\\" transform=\\\"rotate(0, 165.504, 1136.77)\\\" x=\\\"165.504\\\" y=\\\"1136.77\\\">-0.5<\\/text>\\n<\\/g>\\n<g clip-path=\\\"url(#clip5501)\\\">\\n<text style=\\\"fill:#000000; fill-opacity:1; font-family:Arial,Helvetica Neue,Helvetica,sans-serif; font-size:48px; text-anchor:end;\\\" transform=\\\"rotate(0, 165.504, 793.06)\\\" x=\\\"165.504\\\" y=\\\"793.06\\\">0.0<\\/text>\\n<\\/g>\\n<g clip-path=\\\"url(#clip5501)\\\">\\n<text style=\\\"fill:#000000; fill-opacity:1; font-family:Arial,Helvetica Neue,Helvetica,sans-serif; font-size:48px; text-anchor:end;\\\" transform=\\\"rotate(0, 165.504, 449.345)\\\" x=\\\"165.504\\\" y=\\\"449.345\\\">0.5<\\/text>\\n<\\/g>\\n<g clip-path=\\\"url(#clip5501)\\\">\\n<text style=\\\"fill:#000000; fill-opacity:1; font-family:Arial,Helvetica Neue,Helvetica,sans-serif; font-size:48px; text-anchor:end;\\\" transform=\\\"rotate(0, 165.504, 105.63)\\\" x=\\\"165.504\\\" y=\\\"105.63\\\">1.0<\\/text>\\n<\\/g>\\n<polyline clip-path=\\\"url(#clip5503)\\\" style=\\\"stroke:#009af9; stroke-width:4; stroke-opacity:1; fill:none\\\" points=\\\"\\n  249.837,762.134 254.775,748.713 259.712,735.303 264.65,721.908 310.306,599.682 355.963,483.177 378.791,428.265 401.619,376.183 424.448,327.355 447.276,282.179 \\n  474.713,233.232 502.151,190.667 529.589,154.984 557.026,126.604 580.224,108.556 603.423,96.121 626.621,89.4028 649.819,88.4582 675.019,93.9824 700.218,106.273 \\n  725.418,125.209 750.618,150.601 773.85,179.513 797.081,213.456 820.313,252.142 843.545,295.245 868.452,345.948 893.359,400.818 918.266,459.323 943.173,520.894 \\n  1000.89,672.009 1058.6,828.498 1109.89,965.513 1161.18,1094.74 1183.67,1147.56 1206.16,1197.45 1228.65,1243.99 1251.14,1286.84 1275.65,1328.93 1300.17,1365.82 \\n  1324.69,1397.17 1349.21,1422.67 1373.87,1442.19 1398.54,1455.37 1423.2,1462.08 1447.86,1462.26 1475.13,1454.86 1502.4,1439.57 1529.67,1416.56 1556.94,1386.09 \\n  1582.89,1350.51 1608.83,1308.88 1634.78,1261.64 1660.72,1209.28 1687.7,1150.01 1714.68,1086.48 1741.66,1019.41 1768.64,949.563 1814.06,827.923 1859.47,704.597 \\n  1914.93,557.52 1970.38,420.89 1996.44,362.171 2022.5,307.842 2048.57,258.48 2074.63,214.608 2095.51,183.743 2116.38,156.91 2137.26,134.295 2158.14,116.051 \\n  2179.02,102.302 2199.89,93.1413 2220.77,88.6325 2241.65,88.8058 2248.08,89.8022 2254.5,91.2416 2260.93,93.1231 \\n  \\\"\\/>\\n<polygon clip-path=\\\"url(#clip5501)\\\" points=\\\"\\n1958.43,251.724 2249.26,251.724 2249.26,130.764 1958.43,130.764 \\n  \\\" fill=\\\"#ffffff\\\" fill-rule=\\\"evenodd\\\" fill-opacity=\\\"1\\\"\\/>\\n<polyline clip-path=\\\"url(#clip5501)\\\" style=\\\"stroke:#000000; stroke-width:4; stroke-opacity:1; fill:none\\\" points=\\\"\\n  1958.43,251.724 2249.26,251.724 2249.26,130.764 1958.43,130.764 1958.43,251.724 \\n  \\\"\\/>\\n<polyline clip-path=\\\"url(#clip5501)\\\" style=\\\"stroke:#009af9; stroke-width:4; stroke-opacity:1; fill:none\\\" points=\\\"\\n  1982.43,191.244 2126.43,191.244 \\n  \\\"\\/>\\n<g clip-path=\\\"url(#clip5501)\\\">\\n<text style=\\\"fill:#000000; fill-opacity:1; font-family:Arial,Helvetica Neue,Helvetica,sans-serif; font-size:48px; text-anchor:start;\\\" transform=\\\"rotate(0, 2150.43, 208.744)\\\" x=\\\"2150.43\\\" y=\\\"208.744\\\">y1<\\/text>\\n<\\/g>\\n<\\/svg>\\n\"},\"nodeType\":\"DOM\",\"type\":\"node\",\"instanceArgs\":{\"namespace\":\"html\",\"tag\":\"div\"},\"children\":[]}]}}}},\"children\":[{\"props\":{},\"nodeType\":\"ObservableNode\",\"type\":\"node\",\"instanceArgs\":{\"id\":\"ob_15\",\"name\":\"obs-node\"},\"children\":[]}]}]},\n",
       "        );\n",
       "    } else {\n",
       "        document\n",
       "            .querySelector('[data-webio-mountpoint=\"12559848050839514960\"]')\n",
       "            .innerHTML = '<strong>WebIO not detected.</strong>';\n",
       "    }\n",
       "    </script>\n",
       "</div>\n"
      ],
      "text/plain": [
       "Widget{:manipulate,Any}(OrderedDict{Symbol,Any}(:ϕ=>Widget{:slider,Float64}(OrderedDict{Symbol,Any}(:changes=>Observable{Int64} with 1 listeners. Value:\n",
       "0,:index=>Observable{Any} with 2 listeners. Value:\n",
       "33,:formatted_vals=>Observable{Any} with 1 listeners. Value:\n",
       "[\"0.0\", \"0.19635\", \"0.392699\", \"0.589049\", \"0.785398\", \"0.981748\", \"1.1781\", \"1.37445\", \"1.5708\", \"1.76715\"  …  \"10.7992\", \"10.9956\", \"11.1919\", \"11.3883\", \"11.5846\", \"11.781\", \"11.9773\", \"12.1737\", \"12.37\", \"12.5664\"],:formatted_value=>Observable{String} with 1 listeners. Value:\n",
       "\"6.28319\",:value=>Observable{Float64} with 2 listeners. Value:\n",
       "6.28319), Observable{Float64} with 2 listeners. Value:\n",
       "6.28319, Scope(\"knockout-component-faa129d5-df16-43c1-8887-131782bf052b\", Node{DOM}(DOM(:html, :div), Any[Node{DOM}(DOM(:html, :div), Any[Node{DOM}(DOM(:html, :label), Any[\"ϕ\"], Dict{Symbol,Any}(:className=>\"interact \",:style=>Dict{Any,Any}(:padding=>\"5px 10px 0px 10px\")), 1)], Dict{Symbol,Any}(:attributes=>Dict(\"style\"=>\"text-align:right;width:18%\")), 2), Node{DOM}(DOM(:html, :div), Any[Node{DOM}(DOM(:html, :input), Any[], Dict{Symbol,Any}(:max=>65,:min=>1,:attributes=>Dict{Any,Any}(:type=>\"range\",Symbol(\"data-bind\")=>\"numericValue: index, valueUpdate: 'input', event: {change : function () {this.changes(this.changes()+1)}}\",\"orient\"=>\"horizontal\"),:step=>1,:className=>\"slider slider is-fullwidth\",:style=>Dict{Any,Any}()), 0)], Dict{Symbol,Any}(:attributes=>Dict(\"style\"=>\"flex-grow:1; margin: 0 2%\")), 1), Node{DOM}(DOM(:html, :div), Any[Node{DOM}(DOM(:html, :p), Any[], Dict{Symbol,Any}(:attributes=>Dict(\"data-bind\"=>\"text: formatted_value\")), 0)], Dict{Symbol,Any}(:attributes=>Dict(\"style\"=>\"width:18%\")), 1)], Dict{Symbol,Any}(:attributes=>Dict(\"style\"=>\"display:flex; justify-content:center; align-items:center;\")), 7), Dict{String,Tuple{Observables.AbstractObservable,Union{Nothing, Bool}}}(\"formatted_vals\"=>(Observable{Any} with 1 listeners. Value:\n",
       "[\"0.0\", \"0.19635\", \"0.392699\", \"0.589049\", \"0.785398\", \"0.981748\", \"1.1781\", \"1.37445\", \"1.5708\", \"1.76715\"  …  \"10.7992\", \"10.9956\", \"11.1919\", \"11.3883\", \"11.5846\", \"11.781\", \"11.9773\", \"12.1737\", \"12.37\", \"12.5664\"], nothing),\"changes\"=>(Observable{Int64} with 1 listeners. Value:\n",
       "0, nothing),\"formatted_value\"=>(Observable{String} with 1 listeners. Value:\n",
       "\"6.28319\", nothing),\"index\"=>(Observable{Any} with 2 listeners. Value:\n",
       "33, nothing)), Set(String[]), nothing, Any[\"knockout\"=>\"/home/mdpetter/.julia/packages/Knockout/JIqpG/src/../assets/knockout.js\", \"knockout_punches\"=>\"/home/mdpetter/.julia/packages/Knockout/JIqpG/src/../assets/knockout_punches.js\", \"/home/mdpetter/.julia/packages/InteractBase/Q4IkI/src/../assets/all.js\", \"/home/mdpetter/.julia/packages/InteractBase/Q4IkI/src/../assets/style.css\", \"/home/mdpetter/.julia/packages/InteractBulma/Ohu5Y/src/../assets/main.css\"], Dict{Any,Any}(\"formatted_vals\"=>Any[JSString(\"(function (val){return (val!=this.model[\\\"formatted_vals\\\"]()) ? (this.valueFromJulia[\\\"formatted_vals\\\"]=true, this.model[\\\"formatted_vals\\\"](val)) : undefined})\")],\"_promises\"=>Dict{Any,Any}(\"importsLoaded\"=>Any[JSString(\"function (ko, koPunches) {\\n    ko.punches.enableAll();\\n    ko.bindingHandlers.numericValue = {\\n        init : function(element, valueAccessor, allBindings, data, context) {\\n            var stringified = ko.observable(ko.unwrap(valueAccessor()));\\n            stringified.subscribe(function(value) {\\n                var val = parseFloat(value);\\n                if (!isNaN(val)) {\\n                    valueAccessor()(val);\\n                }\\n            })\\n            valueAccessor().subscribe(function(value) {\\n                var str = JSON.stringify(value);\\n                if ((str == \\\"0\\\") && ([\\\"-0\\\", \\\"-0.\\\"].indexOf(stringified()) >= 0))\\n                     return;\\n                 if ([\\\"null\\\", \\\"\\\"].indexOf(str) >= 0)\\n                     return;\\n                stringified(str);\\n            })\\n            ko.applyBindingsToNode(element, { value: stringified, valueUpdate: allBindings.get('valueUpdate')}, context);\\n        }\\n    };\\n    var json_data = JSON.parse(\\\"{\\\\\\\"formatted_vals\\\\\\\":[\\\\\\\"0.0\\\\\\\",\\\\\\\"0.19635\\\\\\\",\\\\\\\"0.392699\\\\\\\",\\\\\\\"0.589049\\\\\\\",\\\\\\\"0.785398\\\\\\\",\\\\\\\"0.981748\\\\\\\",\\\\\\\"1.1781\\\\\\\",\\\\\\\"1.37445\\\\\\\",\\\\\\\"1.5708\\\\\\\",\\\\\\\"1.76715\\\\\\\",\\\\\\\"1.9635\\\\\\\",\\\\\\\"2.15984\\\\\\\",\\\\\\\"2.35619\\\\\\\",\\\\\\\"2.55254\\\\\\\",\\\\\\\"2.74889\\\\\\\",\\\\\\\"2.94524\\\\\\\",\\\\\\\"3.14159\\\\\\\",\\\\\\\"3.33794\\\\\\\",\\\\\\\"3.53429\\\\\\\",\\\\\\\"3.73064\\\\\\\",\\\\\\\"3.92699\\\\\\\",\\\\\\\"4.12334\\\\\\\",\\\\\\\"4.31969\\\\\\\",\\\\\\\"4.51604\\\\\\\",\\\\\\\"4.71239\\\\\\\",\\\\\\\"4.90874\\\\\\\",\\\\\\\"5.10509\\\\\\\",\\\\\\\"5.30144\\\\\\\",\\\\\\\"5.49779\\\\\\\",\\\\\\\"5.69414\\\\\\\",\\\\\\\"5.89049\\\\\\\",\\\\\\\"6.08684\\\\\\\",\\\\\\\"6.28319\\\\\\\",\\\\\\\"6.47953\\\\\\\",\\\\\\\"6.67588\\\\\\\",\\\\\\\"6.87223\\\\\\\",\\\\\\\"7.06858\\\\\\\",\\\\\\\"7.26493\\\\\\\",\\\\\\\"7.46128\\\\\\\",\\\\\\\"7.65763\\\\\\\",\\\\\\\"7.85398\\\\\\\",\\\\\\\"8.05033\\\\\\\",\\\\\\\"8.24668\\\\\\\",\\\\\\\"8.44303\\\\\\\",\\\\\\\"8.63938\\\\\\\",\\\\\\\"8.83573\\\\\\\",\\\\\\\"9.03208\\\\\\\",\\\\\\\"9.22843\\\\\\\",\\\\\\\"9.42478\\\\\\\",\\\\\\\"9.62113\\\\\\\",\\\\\\\"9.81748\\\\\\\",\\\\\\\"10.0138\\\\\\\",\\\\\\\"10.2102\\\\\\\",\\\\\\\"10.4065\\\\\\\",\\\\\\\"10.6029\\\\\\\",\\\\\\\"10.7992\\\\\\\",\\\\\\\"10.9956\\\\\\\",\\\\\\\"11.1919\\\\\\\",\\\\\\\"11.3883\\\\\\\",\\\\\\\"11.5846\\\\\\\",\\\\\\\"11.781\\\\\\\",\\\\\\\"11.9773\\\\\\\",\\\\\\\"12.1737\\\\\\\",\\\\\\\"12.37\\\\\\\",\\\\\\\"12.5664\\\\\\\"],\\\\\\\"changes\\\\\\\":0,\\\\\\\"formatted_value\\\\\\\":\\\\\\\"6.28319\\\\\\\",\\\\\\\"index\\\\\\\":33}\\\");\\n    var self = this;\\n    function AppViewModel() {\\n        for (var key in json_data) {\\n            var el = json_data[key];\\n            this[key] = Array.isArray(el) ? ko.observableArray(el) : ko.observable(el);\\n        }\\n        \\n        \\n        [this[\\\"formatted_vals\\\"].subscribe((function (val){!(this.valueFromJulia[\\\"formatted_vals\\\"]) ? (_webIOScope.setObservableValue({\\\"name\\\":\\\"formatted_vals\\\",\\\"scope\\\":\\\"knockout-component-faa129d5-df16-43c1-8887-131782bf052b\\\",\\\"id\\\":\\\"ob_03\\\",\\\"type\\\":\\\"observable\\\"},val)) : undefined; return this.valueFromJulia[\\\"formatted_vals\\\"]=false}),self),this[\\\"changes\\\"].subscribe((function (val){!(this.valueFromJulia[\\\"changes\\\"]) ? (_webIOScope.setObservableValue({\\\"name\\\":\\\"changes\\\",\\\"scope\\\":\\\"knockout-component-faa129d5-df16-43c1-8887-131782bf052b\\\",\\\"id\\\":\\\"ob_05\\\",\\\"type\\\":\\\"observable\\\"},val)) : undefined; return this.valueFromJulia[\\\"changes\\\"]=false}),self),this[\\\"formatted_value\\\"].subscribe((function (val){!(this.valueFromJulia[\\\"formatted_value\\\"]) ? (_webIOScope.setObservableValue({\\\"name\\\":\\\"formatted_value\\\",\\\"scope\\\":\\\"knockout-component-faa129d5-df16-43c1-8887-131782bf052b\\\",\\\"id\\\":\\\"ob_04\\\",\\\"type\\\":\\\"observable\\\"},val)) : undefined; return this.valueFromJulia[\\\"formatted_value\\\"]=false}),self),this[\\\"index\\\"].subscribe((function (val){!(this.valueFromJulia[\\\"index\\\"]) ? (_webIOScope.setObservableValue({\\\"name\\\":\\\"index\\\",\\\"scope\\\":\\\"knockout-component-faa129d5-df16-43c1-8887-131782bf052b\\\",\\\"id\\\":\\\"ob_02\\\",\\\"type\\\":\\\"observable\\\"},val)) : undefined; return this.valueFromJulia[\\\"index\\\"]=false}),self)]\\n        \\n    }\\n    self.model = new AppViewModel();\\n    self.valueFromJulia = {};\\n    for (var key in json_data) {\\n        self.valueFromJulia[key] = false;\\n    }\\n    ko.applyBindings(self.model, self.dom);\\n}\\n\")]),\"changes\"=>Any[JSString(\"(function (val){return (val!=this.model[\\\"changes\\\"]()) ? (this.valueFromJulia[\\\"changes\\\"]=true, this.model[\\\"changes\\\"](val)) : undefined})\")],\"formatted_value\"=>Any[JSString(\"(function (val){return (val!=this.model[\\\"formatted_value\\\"]()) ? (this.valueFromJulia[\\\"formatted_value\\\"]=true, this.model[\\\"formatted_value\\\"](val)) : undefined})\")],\"index\"=>Any[JSString(\"(function (val){return (val!=this.model[\\\"index\\\"]()) ? (this.valueFromJulia[\\\"index\\\"]=true, this.model[\\\"index\\\"](val)) : undefined})\"), JSString(\"(function (val){return _webIOScope.setObservableValue({\\\"name\\\":\\\"formatted_value\\\",\\\"scope\\\":\\\"knockout-component-faa129d5-df16-43c1-8887-131782bf052b\\\",\\\"id\\\":\\\"ob_04\\\",\\\"type\\\":\\\"observable\\\"},_webIOScope.getObservableValue({\\\"name\\\":\\\"formatted_vals\\\",\\\"scope\\\":\\\"knockout-component-faa129d5-df16-43c1-8887-131782bf052b\\\",\\\"id\\\":\\\"ob_03\\\",\\\"type\\\":\\\"observable\\\"})[(_webIOScope.getObservableValue({\\\"name\\\":\\\"index\\\",\\\"scope\\\":\\\"knockout-component-faa129d5-df16-43c1-8887-131782bf052b\\\",\\\"id\\\":\\\"ob_02\\\",\\\"type\\\":\\\"observable\\\"})-1)])})\")]), ConnectionPool(Channel{Any}(sz_max:9223372036854775807,sz_curr:0), Set(AbstractConnection[]), Channel{AbstractConnection}(sz_max:32,sz_curr:0))), ##52#53{#dom#13{##dom#11#12{Dict{Any,Any},DOM}},typeof(scope)}(#dom#13{##dom#11#12{Dict{Any,Any},DOM}}(##dom#11#12{Dict{Any,Any},DOM}(Dict{Any,Any}(:className=>\"field\"), DOM(:html, :div))), scope)),:f=>Widget{:togglebuttons,Any}(OrderedDict{Symbol,Any}(:options=>Observable{Array{Function,1}} with 2 listeners. Value:\n",
       "Function[sin, cos],:index=>Observable{Any} with 2 listeners. Value:\n",
       "1,:vals2idxs=>Observable{Any} with 1 listeners. Value:\n",
       "Function[sin, cos]), Observable{Any} with 2 listeners. Value:\n",
       "sin, Scope(\"knockout-component-bdb44ff2-0a9b-46a8-b6dc-0451d1779f7c\", Node{DOM}(DOM(:html, :div), Any[Node{DOM}(DOM(:html, :div), Any[Node{DOM}(DOM(:html, :label), Any[\"f\"], Dict{Symbol,Any}(:className=>\"interact \",:style=>Dict{Any,Any}(:padding=>\"5px 10px 0px 10px\")), 1)], Dict{Symbol,Any}(:attributes=>Dict(\"style\"=>\"text-align:right;width:18%\")), 2), Node{DOM}(DOM(:html, :div), Any[Node{DOM}(DOM(:html, :div), Any[Node{DOM}(DOM(:html, :button), Any[Node{DOM}(DOM(:html, :label), Any[], Dict{Symbol,Any}(:attributes=>Dict(\"data-bind\"=>\"text : key\")), 0)], Dict{Symbol,Any}(:attributes=>Dict(\"data-bind\"=>\"click: function () {\\$root.index(val)}, css: {'is-primary is-selected' : \\$root.index() == val, 'button is-fullwidth' : true}\")), 1)], Dict{Symbol,Any}(:attributes=>(\"data-bind\"=>\"foreach : options_js\"),:className=>\"field is-grouped has-addons is-oneline is-centered\"), 2)], Dict{Symbol,Any}(:attributes=>Dict(\"style\"=>\"flex-grow:1; margin: 0 2%\")), 3), Node{DOM}(DOM(:html, :div), Any[Node{DOM}(DOM(:html, :div), Any[], Dict{Symbol,Any}(), 0)], Dict{Symbol,Any}(:attributes=>Dict(\"style\"=>\"width:18%\")), 1)], Dict{Symbol,Any}(:attributes=>Dict(\"style\"=>\"display:flex; justify-content:center; align-items:center;\")), 9), Dict{String,Tuple{Observables.AbstractObservable,Union{Nothing, Bool}}}(\"options_js\"=>(Observable{Any} with 1 listeners. Value:\n",
       "OrderedDict[OrderedDict{String,Any}(\"key\"=>\"sin\",\"val\"=>1,\"id\"=>\"id6Uv4HNNV\"), OrderedDict{String,Any}(\"key\"=>\"cos\",\"val\"=>2,\"id\"=>\"idfHneo8Jj\")], nothing),\"index\"=>(Observable{Any} with 2 listeners. Value:\n",
       "1, nothing)), Set(String[]), nothing, Any[\"knockout\"=>\"/home/mdpetter/.julia/packages/Knockout/JIqpG/src/../assets/knockout.js\", \"knockout_punches\"=>\"/home/mdpetter/.julia/packages/Knockout/JIqpG/src/../assets/knockout_punches.js\", \"/home/mdpetter/.julia/packages/InteractBase/Q4IkI/src/../assets/all.js\", \"/home/mdpetter/.julia/packages/InteractBase/Q4IkI/src/../assets/style.css\", \"/home/mdpetter/.julia/packages/InteractBulma/Ohu5Y/src/../assets/main.css\"], Dict{Any,Any}(\"_promises\"=>Dict{Any,Any}(\"importsLoaded\"=>Any[JSString(\"function (ko, koPunches) {\\n    ko.punches.enableAll();\\n    ko.bindingHandlers.numericValue = {\\n        init : function(element, valueAccessor, allBindings, data, context) {\\n            var stringified = ko.observable(ko.unwrap(valueAccessor()));\\n            stringified.subscribe(function(value) {\\n                var val = parseFloat(value);\\n                if (!isNaN(val)) {\\n                    valueAccessor()(val);\\n                }\\n            })\\n            valueAccessor().subscribe(function(value) {\\n                var str = JSON.stringify(value);\\n                if ((str == \\\"0\\\") && ([\\\"-0\\\", \\\"-0.\\\"].indexOf(stringified()) >= 0))\\n                     return;\\n                 if ([\\\"null\\\", \\\"\\\"].indexOf(str) >= 0)\\n                     return;\\n                stringified(str);\\n            })\\n            ko.applyBindingsToNode(element, { value: stringified, valueUpdate: allBindings.get('valueUpdate')}, context);\\n        }\\n    };\\n    var json_data = JSON.parse(\\\"{\\\\\\\"options_js\\\\\\\":[{\\\\\\\"key\\\\\\\":\\\\\\\"sin\\\\\\\",\\\\\\\"val\\\\\\\":1,\\\\\\\"id\\\\\\\":\\\\\\\"id6Uv4HNNV\\\\\\\"},{\\\\\\\"key\\\\\\\":\\\\\\\"cos\\\\\\\",\\\\\\\"val\\\\\\\":2,\\\\\\\"id\\\\\\\":\\\\\\\"idfHneo8Jj\\\\\\\"}],\\\\\\\"index\\\\\\\":1}\\\");\\n    var self = this;\\n    function AppViewModel() {\\n        for (var key in json_data) {\\n            var el = json_data[key];\\n            this[key] = Array.isArray(el) ? ko.observableArray(el) : ko.observable(el);\\n        }\\n        \\n        \\n        [this[\\\"options_js\\\"].subscribe((function (val){!(this.valueFromJulia[\\\"options_js\\\"]) ? (_webIOScope.setObservableValue({\\\"name\\\":\\\"options_js\\\",\\\"scope\\\":\\\"knockout-component-bdb44ff2-0a9b-46a8-b6dc-0451d1779f7c\\\",\\\"id\\\":\\\"ob_10\\\",\\\"type\\\":\\\"observable\\\"},val)) : undefined; return this.valueFromJulia[\\\"options_js\\\"]=false}),self),this[\\\"index\\\"].subscribe((function (val){!(this.valueFromJulia[\\\"index\\\"]) ? (_webIOScope.setObservableValue({\\\"name\\\":\\\"index\\\",\\\"scope\\\":\\\"knockout-component-bdb44ff2-0a9b-46a8-b6dc-0451d1779f7c\\\",\\\"id\\\":\\\"ob_09\\\",\\\"type\\\":\\\"observable\\\"},val)) : undefined; return this.valueFromJulia[\\\"index\\\"]=false}),self)]\\n        \\n    }\\n    self.model = new AppViewModel();\\n    self.valueFromJulia = {};\\n    for (var key in json_data) {\\n        self.valueFromJulia[key] = false;\\n    }\\n    ko.applyBindings(self.model, self.dom);\\n}\\n\")]),\"options_js\"=>Any[JSString(\"(function (val){return (val!=this.model[\\\"options_js\\\"]()) ? (this.valueFromJulia[\\\"options_js\\\"]=true, this.model[\\\"options_js\\\"](val)) : undefined})\")],\"index\"=>Any[JSString(\"(function (val){return (val!=this.model[\\\"index\\\"]()) ? (this.valueFromJulia[\\\"index\\\"]=true, this.model[\\\"index\\\"](val)) : undefined})\")]), ConnectionPool(Channel{Any}(sz_max:9223372036854775807,sz_curr:0), Set(AbstractConnection[]), Channel{AbstractConnection}(sz_max:32,sz_curr:0))), ##52#53{#dom#13{##dom#11#12{Dict{Any,Any},DOM}},typeof(scope)}(#dom#13{##dom#11#12{Dict{Any,Any},DOM}}(##dom#11#12{Dict{Any,Any},DOM}(Dict{Any,Any}(:className=>\"field\"), DOM(:html, :div))), scope)),:both=>Widget{:toggle,Bool}(OrderedDict{Symbol,Any}(:changes=>Observable{Int64} with 1 listeners. Value:\n",
       "0,:value=>Observable{Bool} with 2 listeners. Value:\n",
       "false), Observable{Bool} with 2 listeners. Value:\n",
       "false, Scope(\"knockout-component-092c3f57-2124-46b0-9f20-146b931584d4\", Node{DOM}(DOM(:html, :div), Any[Node{DOM}(DOM(:html, :input), Any[], Dict{Symbol,Any}(:attributes=>Dict{Any,Any}(:type=>\"checkbox\",Symbol(\"data-bind\")=>\"checked: value, valueUpdate: 'change', event: {change : function () {this.changes(this.changes()+1)}}\"),:id=>\"##361\",:className=>\"switch \",:style=>Dict{Any,Any}()), 0), Node{DOM}(DOM(:html, :label), Any[\"both\"], Dict{Symbol,Any}(:attributes=>Dict(\"className\"=>\"\",\"for\"=>\"##361\")), 1)], Dict{Symbol,Any}(:className=>\"field\"), 3), Dict{String,Tuple{Observables.AbstractObservable,Union{Nothing, Bool}}}(\"changes\"=>(Observable{Int64} with 1 listeners. Value:\n",
       "0, nothing),\"value\"=>(Observable{Bool} with 2 listeners. Value:\n",
       "false, nothing)), Set(String[]), nothing, Any[\"knockout\"=>\"/home/mdpetter/.julia/packages/Knockout/JIqpG/src/../assets/knockout.js\", \"knockout_punches\"=>\"/home/mdpetter/.julia/packages/Knockout/JIqpG/src/../assets/knockout_punches.js\", \"/home/mdpetter/.julia/packages/InteractBase/Q4IkI/src/../assets/all.js\", \"/home/mdpetter/.julia/packages/InteractBase/Q4IkI/src/../assets/style.css\", \"/home/mdpetter/.julia/packages/InteractBulma/Ohu5Y/src/../assets/main.css\"], Dict{Any,Any}(\"_promises\"=>Dict{Any,Any}(\"importsLoaded\"=>Any[JSString(\"function (ko, koPunches) {\\n    ko.punches.enableAll();\\n    ko.bindingHandlers.numericValue = {\\n        init : function(element, valueAccessor, allBindings, data, context) {\\n            var stringified = ko.observable(ko.unwrap(valueAccessor()));\\n            stringified.subscribe(function(value) {\\n                var val = parseFloat(value);\\n                if (!isNaN(val)) {\\n                    valueAccessor()(val);\\n                }\\n            })\\n            valueAccessor().subscribe(function(value) {\\n                var str = JSON.stringify(value);\\n                if ((str == \\\"0\\\") && ([\\\"-0\\\", \\\"-0.\\\"].indexOf(stringified()) >= 0))\\n                     return;\\n                 if ([\\\"null\\\", \\\"\\\"].indexOf(str) >= 0)\\n                     return;\\n                stringified(str);\\n            })\\n            ko.applyBindingsToNode(element, { value: stringified, valueUpdate: allBindings.get('valueUpdate')}, context);\\n        }\\n    };\\n    var json_data = JSON.parse(\\\"{\\\\\\\"changes\\\\\\\":0,\\\\\\\"value\\\\\\\":false}\\\");\\n    var self = this;\\n    function AppViewModel() {\\n        for (var key in json_data) {\\n            var el = json_data[key];\\n            this[key] = Array.isArray(el) ? ko.observableArray(el) : ko.observable(el);\\n        }\\n        \\n        \\n        [this[\\\"changes\\\"].subscribe((function (val){!(this.valueFromJulia[\\\"changes\\\"]) ? (_webIOScope.setObservableValue({\\\"name\\\":\\\"changes\\\",\\\"scope\\\":\\\"knockout-component-092c3f57-2124-46b0-9f20-146b931584d4\\\",\\\"id\\\":\\\"ob_12\\\",\\\"type\\\":\\\"observable\\\"},val)) : undefined; return this.valueFromJulia[\\\"changes\\\"]=false}),self),this[\\\"value\\\"].subscribe((function (val){!(this.valueFromJulia[\\\"value\\\"]) ? (_webIOScope.setObservableValue({\\\"name\\\":\\\"value\\\",\\\"scope\\\":\\\"knockout-component-092c3f57-2124-46b0-9f20-146b931584d4\\\",\\\"id\\\":\\\"ob_11\\\",\\\"type\\\":\\\"observable\\\"},val)) : undefined; return this.valueFromJulia[\\\"value\\\"]=false}),self)]\\n        \\n    }\\n    self.model = new AppViewModel();\\n    self.valueFromJulia = {};\\n    for (var key in json_data) {\\n        self.valueFromJulia[key] = false;\\n    }\\n    ko.applyBindings(self.model, self.dom);\\n}\\n\")]),\"changes\"=>Any[JSString(\"(function (val){return (val!=this.model[\\\"changes\\\"]()) ? (this.valueFromJulia[\\\"changes\\\"]=true, this.model[\\\"changes\\\"](val)) : undefined})\")],\"value\"=>Any[JSString(\"(function (val){return (val!=this.model[\\\"value\\\"]()) ? (this.valueFromJulia[\\\"value\\\"]=true, this.model[\\\"value\\\"](val)) : undefined})\")]), ConnectionPool(Channel{Any}(sz_max:9223372036854775807,sz_curr:0), Set(AbstractConnection[]), Channel{AbstractConnection}(sz_max:32,sz_curr:0))), ##52#53{#dom#13{##dom#11#12{Dict{Any,Any},DOM}},typeof(scope)}(#dom#13{##dom#11#12{Dict{Any,Any},DOM}}(##dom#11#12{Dict{Any,Any},DOM}(Dict{Any,Any}(:className=>\"field\"), DOM(:html, :div))), scope))), Observable{Any} with 0 listeners. Value:\n",
       "Plot{Plots.GRBackend() n=1}, nothing, getfield(Main, Symbol(\"##7#12\")){Observable{Any}}(Observable{Any} with 0 listeners. Value:\n",
       "Plot{Plots.GRBackend() n=1}))"
      ]
     },
     "execution_count": 2,
     "metadata": {
      "application/vnd.webio.node+json": {
       "kernelId": "1a150fcf-998d-4958-a480-6e16b1d1d090"
      }
     },
     "output_type": "execute_result"
    }
   ],
   "source": [
    "@manipulate for ϕ = 0:π/16:4π, f = [sin, cos], both = false\n",
    "    if both\n",
    "        plot([θ -> sin(θ + ϕ), θ -> cos(θ + ϕ)], 0, 8)\n",
    "    else\n",
    "        plot(θ -> f(θ + ϕ), 0, 8)\n",
    "    end\n",
    "end"
   ]
  }
 ],
 "metadata": {
  "@webio": {
   "lastCommId": "5f78cdfdea62425885436d3dd3e0cc21",
   "lastKernelId": "1a150fcf-998d-4958-a480-6e16b1d1d090"
  },
  "kernelspec": {
   "display_name": "Julia 1.0.2",
   "language": "julia",
   "name": "julia-1.0"
  },
  "language_info": {
   "file_extension": ".jl",
   "mimetype": "application/julia",
   "name": "julia",
   "version": "1.0.2"
  }
 },
 "nbformat": 4,
 "nbformat_minor": 2
}
