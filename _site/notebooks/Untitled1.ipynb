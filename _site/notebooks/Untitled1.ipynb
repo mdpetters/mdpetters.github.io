{
 "cells": [
  {
   "cell_type": "code",
   "execution_count": 3,
   "metadata": {},
   "outputs": [],
   "source": [
    "using Plots, Interact"
   ]
  },
  {
   "cell_type": "code",
   "execution_count": 4,
   "metadata": {},
   "outputs": [
    {
     "data": {
      "application/vnd.jupyter.widget-view+json": {
       "model_id": "2f4ad60f-1469-43b9-bc2b-62f93eab4c38",
       "version_major": 2,
       "version_minor": 0
      }
     },
     "metadata": {},
     "output_type": "display_data"
    },
    {
     "data": {
      "text/html": [],
      "text/plain": [
       "Interact.Options{:SelectionSlider,Float64}(8: \"input-4\" = 6.283185307179586 Float64 , \"ϕ\", 6.283185307179586, \"6.283185307179586\", 33, Interact.OptionDict(DataStructures.OrderedDict(\"0.0\"=>0.0,\"0.19634954084936207\"=>0.19635,\"0.39269908169872414\"=>0.392699,\"0.5890486225480862\"=>0.589049,\"0.7853981633974483\"=>0.785398,\"0.9817477042468103\"=>0.981748,\"1.1780972450961724\"=>1.1781,\"1.3744467859455345\"=>1.37445,\"1.5707963267948966\"=>1.5708,\"1.7671458676442586\"=>1.76715…), Dict(7.85398=>\"7.853981633974483\",11.3883=>\"11.388273369263\",10.0138=>\"10.013826583317465\",2.74889=>\"2.748893571891069\",1.5708=>\"1.5707963267948966\",4.90874=>\"4.908738521234052\",5.30144=>\"5.301437602932776\",2.94524=>\"2.945243112740431\",10.4065=>\"10.40652566501619\",3.33794=>\"3.3379421944391554\"…)), Any[], Any[], true, \"horizontal\", true)"
      ]
     },
     "metadata": {},
     "output_type": "display_data"
    },
    {
     "data": {
      "application/vnd.jupyter.widget-view+json": {
       "model_id": "28e7fd35-150a-4f5f-bf25-45f319c8f3e7",
       "version_major": 2,
       "version_minor": 0
      }
     },
     "metadata": {},
     "output_type": "display_data"
    },
    {
     "data": {
      "text/html": [],
      "text/plain": [
       "Interact.Options{:ToggleButtons,Function}(10: \"input-5\" = sin Function , \"f\", sin, \"sin\", 1, Interact.OptionDict(DataStructures.OrderedDict{String,Function}(\"sin\"=>sin,\"cos\"=>cos), Dict{Function,String}(Pair{Function,String}(cos, \"cos\"),Pair{Function,String}(sin, \"sin\"))), Any[], Any[], true, \"horizontal\", true)"
      ]
     },
     "metadata": {},
     "output_type": "display_data"
    },
    {
     "data": {
      "application/vnd.jupyter.widget-view+json": {
       "model_id": "f52af169-145d-44ce-8b96-3edfd6af3638",
       "version_major": 2,
       "version_minor": 0
      }
     },
     "metadata": {},
     "output_type": "display_data"
    },
    {
     "data": {
      "text/html": [],
      "text/plain": [
       "Interact.Checkbox(12: \"input-6\" = false Bool , \"both\", false)"
      ]
     },
     "metadata": {},
     "output_type": "display_data"
    },
    {
     "data": {
      "image/svg+xml": [
       "<?xml version=\"1.0\" encoding=\"utf-8\"?>\n",
       "<svg xmlns=\"http://www.w3.org/2000/svg\" xmlns:xlink=\"http://www.w3.org/1999/xlink\" width=\"150\" height=\"100\" viewBox=\"0 0 600 400\">\n",
       "<defs>\n",
       "  <clipPath id=\"clip5000\">\n",
       "    <rect x=\"0\" y=\"0\" width=\"2000\" height=\"2000\"/>\n",
       "  </clipPath>\n",
       "</defs>\n",
       "<defs>\n",
       "  <clipPath id=\"clip5001\">\n",
       "    <rect x=\"0\" y=\"0\" width=\"600\" height=\"400\"/>\n",
       "  </clipPath>\n",
       "</defs>\n",
       "<polygon clip-path=\"url(#clip5001)\" points=\"\n",
       "0,400 600,400 600,0 0,0 \n",
       "  \" fill=\"#ffffff\" fill-opacity=\"1\"/>\n",
       "<defs>\n",
       "  <clipPath id=\"clip5002\">\n",
       "    <rect x=\"120\" y=\"0\" width=\"421\" height=\"400\"/>\n",
       "  </clipPath>\n",
       "</defs>\n",
       "<polygon clip-path=\"url(#clip5001)\" points=\"\n",
       "46.1926,375.869 580.315,375.869 580.315,11.811 46.1926,11.811 \n",
       "  \" fill=\"#ffffff\" fill-opacity=\"1\"/>\n",
       "<defs>\n",
       "  <clipPath id=\"clip5003\">\n",
       "    <rect x=\"46\" y=\"11\" width=\"535\" height=\"365\"/>\n",
       "  </clipPath>\n",
       "</defs>\n",
       "<polyline clip-path=\"url(#clip5003)\" style=\"stroke:#000000; stroke-width:0.5; stroke-opacity:0.1; fill:none\" points=\"\n",
       "  112.024,375.869 112.024,11.811 \n",
       "  \"/>\n",
       "<polyline clip-path=\"url(#clip5003)\" style=\"stroke:#000000; stroke-width:0.5; stroke-opacity:0.1; fill:none\" points=\"\n",
       "  179.166,375.869 179.166,11.811 \n",
       "  \"/>\n",
       "<polyline clip-path=\"url(#clip5003)\" style=\"stroke:#000000; stroke-width:0.5; stroke-opacity:0.1; fill:none\" points=\"\n",
       "  246.309,375.869 246.309,11.811 \n",
       "  \"/>\n",
       "<polyline clip-path=\"url(#clip5003)\" style=\"stroke:#000000; stroke-width:0.5; stroke-opacity:0.1; fill:none\" points=\"\n",
       "  313.451,375.869 313.451,11.811 \n",
       "  \"/>\n",
       "<polyline clip-path=\"url(#clip5003)\" style=\"stroke:#000000; stroke-width:0.5; stroke-opacity:0.1; fill:none\" points=\"\n",
       "  380.594,375.869 380.594,11.811 \n",
       "  \"/>\n",
       "<polyline clip-path=\"url(#clip5003)\" style=\"stroke:#000000; stroke-width:0.5; stroke-opacity:0.1; fill:none\" points=\"\n",
       "  447.737,375.869 447.737,11.811 \n",
       "  \"/>\n",
       "<polyline clip-path=\"url(#clip5003)\" style=\"stroke:#000000; stroke-width:0.5; stroke-opacity:0.1; fill:none\" points=\"\n",
       "  514.879,375.869 514.879,11.811 \n",
       "  \"/>\n",
       "<polyline clip-path=\"url(#clip5003)\" style=\"stroke:#000000; stroke-width:0.5; stroke-opacity:0.1; fill:none\" points=\"\n",
       "  46.1926,330.52 580.315,330.52 \n",
       "  \"/>\n",
       "<polyline clip-path=\"url(#clip5003)\" style=\"stroke:#000000; stroke-width:0.5; stroke-opacity:0.1; fill:none\" points=\"\n",
       "  46.1926,284.977 580.315,284.977 \n",
       "  \"/>\n",
       "<polyline clip-path=\"url(#clip5003)\" style=\"stroke:#000000; stroke-width:0.5; stroke-opacity:0.1; fill:none\" points=\"\n",
       "  46.1926,239.435 580.315,239.435 \n",
       "  \"/>\n",
       "<polyline clip-path=\"url(#clip5003)\" style=\"stroke:#000000; stroke-width:0.5; stroke-opacity:0.1; fill:none\" points=\"\n",
       "  46.1926,193.893 580.315,193.893 \n",
       "  \"/>\n",
       "<polyline clip-path=\"url(#clip5003)\" style=\"stroke:#000000; stroke-width:0.5; stroke-opacity:0.1; fill:none\" points=\"\n",
       "  46.1926,148.351 580.315,148.351 \n",
       "  \"/>\n",
       "<polyline clip-path=\"url(#clip5003)\" style=\"stroke:#000000; stroke-width:0.5; stroke-opacity:0.1; fill:none\" points=\"\n",
       "  46.1926,102.808 580.315,102.808 \n",
       "  \"/>\n",
       "<polyline clip-path=\"url(#clip5003)\" style=\"stroke:#000000; stroke-width:0.5; stroke-opacity:0.1; fill:none\" points=\"\n",
       "  46.1926,57.2663 580.315,57.2663 \n",
       "  \"/>\n",
       "<polyline clip-path=\"url(#clip5001)\" style=\"stroke:#000000; stroke-width:1; stroke-opacity:1; fill:none\" points=\"\n",
       "  46.1926,375.869 580.315,375.869 \n",
       "  \"/>\n",
       "<polyline clip-path=\"url(#clip5001)\" style=\"stroke:#000000; stroke-width:1; stroke-opacity:1; fill:none\" points=\"\n",
       "  46.1926,375.869 46.1926,11.811 \n",
       "  \"/>\n",
       "<polyline clip-path=\"url(#clip5001)\" style=\"stroke:#000000; stroke-width:1; stroke-opacity:1; fill:none\" points=\"\n",
       "  112.024,375.869 112.024,370.408 \n",
       "  \"/>\n",
       "<polyline clip-path=\"url(#clip5001)\" style=\"stroke:#000000; stroke-width:1; stroke-opacity:1; fill:none\" points=\"\n",
       "  179.166,375.869 179.166,370.408 \n",
       "  \"/>\n",
       "<polyline clip-path=\"url(#clip5001)\" style=\"stroke:#000000; stroke-width:1; stroke-opacity:1; fill:none\" points=\"\n",
       "  246.309,375.869 246.309,370.408 \n",
       "  \"/>\n",
       "<polyline clip-path=\"url(#clip5001)\" style=\"stroke:#000000; stroke-width:1; stroke-opacity:1; fill:none\" points=\"\n",
       "  313.451,375.869 313.451,370.408 \n",
       "  \"/>\n",
       "<polyline clip-path=\"url(#clip5001)\" style=\"stroke:#000000; stroke-width:1; stroke-opacity:1; fill:none\" points=\"\n",
       "  380.594,375.869 380.594,370.408 \n",
       "  \"/>\n",
       "<polyline clip-path=\"url(#clip5001)\" style=\"stroke:#000000; stroke-width:1; stroke-opacity:1; fill:none\" points=\"\n",
       "  447.737,375.869 447.737,370.408 \n",
       "  \"/>\n",
       "<polyline clip-path=\"url(#clip5001)\" style=\"stroke:#000000; stroke-width:1; stroke-opacity:1; fill:none\" points=\"\n",
       "  514.879,375.869 514.879,370.408 \n",
       "  \"/>\n",
       "<polyline clip-path=\"url(#clip5001)\" style=\"stroke:#000000; stroke-width:1; stroke-opacity:1; fill:none\" points=\"\n",
       "  46.1926,330.52 54.2044,330.52 \n",
       "  \"/>\n",
       "<polyline clip-path=\"url(#clip5001)\" style=\"stroke:#000000; stroke-width:1; stroke-opacity:1; fill:none\" points=\"\n",
       "  46.1926,284.977 54.2044,284.977 \n",
       "  \"/>\n",
       "<polyline clip-path=\"url(#clip5001)\" style=\"stroke:#000000; stroke-width:1; stroke-opacity:1; fill:none\" points=\"\n",
       "  46.1926,239.435 54.2044,239.435 \n",
       "  \"/>\n",
       "<polyline clip-path=\"url(#clip5001)\" style=\"stroke:#000000; stroke-width:1; stroke-opacity:1; fill:none\" points=\"\n",
       "  46.1926,193.893 54.2044,193.893 \n",
       "  \"/>\n",
       "<polyline clip-path=\"url(#clip5001)\" style=\"stroke:#000000; stroke-width:1; stroke-opacity:1; fill:none\" points=\"\n",
       "  46.1926,148.351 54.2044,148.351 \n",
       "  \"/>\n",
       "<polyline clip-path=\"url(#clip5001)\" style=\"stroke:#000000; stroke-width:1; stroke-opacity:1; fill:none\" points=\"\n",
       "  46.1926,102.808 54.2044,102.808 \n",
       "  \"/>\n",
       "<polyline clip-path=\"url(#clip5001)\" style=\"stroke:#000000; stroke-width:1; stroke-opacity:1; fill:none\" points=\"\n",
       "  46.1926,57.2663 54.2044,57.2663 \n",
       "  \"/>\n",
       "<g clip-path=\"url(#clip5001)\">\n",
       "<text style=\"fill:#000000; fill-opacity:1; font-family:Arial,Helvetica Neue,Helvetica,sans-serif; font-size:12px; text-anchor:middle;\" transform=\"rotate(0, 112.024, 389.669)\" x=\"112.024\" y=\"389.669\">1</text>\n",
       "</g>\n",
       "<g clip-path=\"url(#clip5001)\">\n",
       "<text style=\"fill:#000000; fill-opacity:1; font-family:Arial,Helvetica Neue,Helvetica,sans-serif; font-size:12px; text-anchor:middle;\" transform=\"rotate(0, 179.166, 389.669)\" x=\"179.166\" y=\"389.669\">2</text>\n",
       "</g>\n",
       "<g clip-path=\"url(#clip5001)\">\n",
       "<text style=\"fill:#000000; fill-opacity:1; font-family:Arial,Helvetica Neue,Helvetica,sans-serif; font-size:12px; text-anchor:middle;\" transform=\"rotate(0, 246.309, 389.669)\" x=\"246.309\" y=\"389.669\">3</text>\n",
       "</g>\n",
       "<g clip-path=\"url(#clip5001)\">\n",
       "<text style=\"fill:#000000; fill-opacity:1; font-family:Arial,Helvetica Neue,Helvetica,sans-serif; font-size:12px; text-anchor:middle;\" transform=\"rotate(0, 313.451, 389.669)\" x=\"313.451\" y=\"389.669\">4</text>\n",
       "</g>\n",
       "<g clip-path=\"url(#clip5001)\">\n",
       "<text style=\"fill:#000000; fill-opacity:1; font-family:Arial,Helvetica Neue,Helvetica,sans-serif; font-size:12px; text-anchor:middle;\" transform=\"rotate(0, 380.594, 389.669)\" x=\"380.594\" y=\"389.669\">5</text>\n",
       "</g>\n",
       "<g clip-path=\"url(#clip5001)\">\n",
       "<text style=\"fill:#000000; fill-opacity:1; font-family:Arial,Helvetica Neue,Helvetica,sans-serif; font-size:12px; text-anchor:middle;\" transform=\"rotate(0, 447.737, 389.669)\" x=\"447.737\" y=\"389.669\">6</text>\n",
       "</g>\n",
       "<g clip-path=\"url(#clip5001)\">\n",
       "<text style=\"fill:#000000; fill-opacity:1; font-family:Arial,Helvetica Neue,Helvetica,sans-serif; font-size:12px; text-anchor:middle;\" transform=\"rotate(0, 514.879, 389.669)\" x=\"514.879\" y=\"389.669\">7</text>\n",
       "</g>\n",
       "<g clip-path=\"url(#clip5001)\">\n",
       "<text style=\"fill:#000000; fill-opacity:1; font-family:Arial,Helvetica Neue,Helvetica,sans-serif; font-size:12px; text-anchor:end;\" transform=\"rotate(0, 40.1926, 335.02)\" x=\"40.1926\" y=\"335.02\">-0.75</text>\n",
       "</g>\n",
       "<g clip-path=\"url(#clip5001)\">\n",
       "<text style=\"fill:#000000; fill-opacity:1; font-family:Arial,Helvetica Neue,Helvetica,sans-serif; font-size:12px; text-anchor:end;\" transform=\"rotate(0, 40.1926, 289.477)\" x=\"40.1926\" y=\"289.477\">-0.50</text>\n",
       "</g>\n",
       "<g clip-path=\"url(#clip5001)\">\n",
       "<text style=\"fill:#000000; fill-opacity:1; font-family:Arial,Helvetica Neue,Helvetica,sans-serif; font-size:12px; text-anchor:end;\" transform=\"rotate(0, 40.1926, 243.935)\" x=\"40.1926\" y=\"243.935\">-0.25</text>\n",
       "</g>\n",
       "<g clip-path=\"url(#clip5001)\">\n",
       "<text style=\"fill:#000000; fill-opacity:1; font-family:Arial,Helvetica Neue,Helvetica,sans-serif; font-size:12px; text-anchor:end;\" transform=\"rotate(0, 40.1926, 198.393)\" x=\"40.1926\" y=\"198.393\">0.00</text>\n",
       "</g>\n",
       "<g clip-path=\"url(#clip5001)\">\n",
       "<text style=\"fill:#000000; fill-opacity:1; font-family:Arial,Helvetica Neue,Helvetica,sans-serif; font-size:12px; text-anchor:end;\" transform=\"rotate(0, 40.1926, 152.851)\" x=\"40.1926\" y=\"152.851\">0.25</text>\n",
       "</g>\n",
       "<g clip-path=\"url(#clip5001)\">\n",
       "<text style=\"fill:#000000; fill-opacity:1; font-family:Arial,Helvetica Neue,Helvetica,sans-serif; font-size:12px; text-anchor:end;\" transform=\"rotate(0, 40.1926, 107.308)\" x=\"40.1926\" y=\"107.308\">0.50</text>\n",
       "</g>\n",
       "<g clip-path=\"url(#clip5001)\">\n",
       "<text style=\"fill:#000000; fill-opacity:1; font-family:Arial,Helvetica Neue,Helvetica,sans-serif; font-size:12px; text-anchor:end;\" transform=\"rotate(0, 40.1926, 61.7663)\" x=\"40.1926\" y=\"61.7663\">0.75</text>\n",
       "</g>\n",
       "<polyline clip-path=\"url(#clip5003)\" style=\"stroke:#009af9; stroke-width:1; stroke-opacity:1; fill:none\" points=\"\n",
       "  46.1926,190.335 47.504,186.779 48.8154,183.225 50.1268,179.675 62.2526,147.285 74.3785,116.412 80.4414,101.86 86.5043,88.0581 92.5672,75.1187 98.6301,63.1471 \n",
       "  105.917,50.1761 113.204,38.8962 120.491,29.4404 127.779,21.9197 133.94,17.137 140.101,13.8417 146.262,12.0613 152.423,11.811 159.116,13.275 165.809,16.532 \n",
       "  172.501,21.5499 179.194,28.2788 185.364,35.9406 191.534,44.9354 197.705,55.1873 203.875,66.6096 210.49,80.0459 217.105,94.5864 223.72,110.09 230.335,126.407 \n",
       "  245.663,166.452 260.991,207.921 274.613,244.23 288.235,278.475 294.208,292.473 300.181,305.693 306.153,318.028 312.126,329.381 318.638,340.536 325.149,350.313 \n",
       "  331.661,358.619 338.173,365.377 344.723,370.549 351.274,374.041 357.824,375.82 364.375,375.869 371.617,373.908 378.86,369.855 386.102,363.757 393.344,355.685 \n",
       "  400.235,346.256 407.126,335.224 414.017,322.705 420.908,308.83 428.073,293.122 435.238,276.286 442.403,258.513 449.568,240.004 461.631,207.769 473.694,175.088 \n",
       "  488.421,136.112 503.148,99.9055 510.07,84.345 516.992,69.9478 523.914,56.8668 530.836,45.2408 536.381,37.0614 541.926,29.9509 547.471,23.9578 553.016,19.123 \n",
       "  558.561,15.4795 564.105,13.0521 569.65,11.8572 575.195,11.9031 576.902,12.1672 578.608,12.5486 580.315,13.0472 \n",
       "  \"/>\n",
       "<polygon clip-path=\"url(#clip5001)\" points=\"\n",
       "489.608,62.931 562.315,62.931 562.315,32.691 489.608,32.691 \n",
       "  \" fill=\"#ffffff\" fill-opacity=\"1\"/>\n",
       "<polyline clip-path=\"url(#clip5001)\" style=\"stroke:#000000; stroke-width:1; stroke-opacity:1; fill:none\" points=\"\n",
       "  489.608,62.931 562.315,62.931 562.315,32.691 489.608,32.691 489.608,62.931 \n",
       "  \"/>\n",
       "<polyline clip-path=\"url(#clip5001)\" style=\"stroke:#009af9; stroke-width:1; stroke-opacity:1; fill:none\" points=\"\n",
       "  495.608,47.811 531.608,47.811 \n",
       "  \"/>\n",
       "<g clip-path=\"url(#clip5001)\">\n",
       "<text style=\"fill:#000000; fill-opacity:1; font-family:Arial,Helvetica Neue,Helvetica,sans-serif; font-size:12px; text-anchor:start;\" transform=\"rotate(0, 537.608, 52.311)\" x=\"537.608\" y=\"52.311\">y1</text>\n",
       "</g>\n",
       "</svg>\n"
      ]
     },
     "execution_count": 4,
     "metadata": {
      "comm_id": "8966127f-8fe6-405c-b661-2336a25046b4",
      "reactive": true
     },
     "output_type": "execute_result"
    }
   ],
   "source": [
    "@manipulate for ϕ = 0:π/16:4π, f = [sin, cos], both = false\n",
    "    if both\n",
    "        plot([θ -> sin(θ + ϕ), θ -> cos(θ + ϕ)], 0, 8)\n",
    "    else\n",
    "        plot(θ -> f(θ + ϕ), 0, 8)\n",
    "    end\n",
    "end"
   ]
  },
  {
   "cell_type": "code",
   "execution_count": null,
   "metadata": {},
   "outputs": [],
   "source": []
  }
 ],
 "metadata": {
  "@webio": {
   "lastCommId": "3b3d31f33849444a8dae69ab4bc9a03d",
   "lastKernelId": "3335ce1f-bafe-4d8c-b63b-487e81ff6a0c"
  },
  "kernelspec": {
   "display_name": "Julia 0.6.4",
   "language": "julia",
   "name": "julia-0.6"
  },
  "language_info": {
   "file_extension": ".jl",
   "mimetype": "application/julia",
   "name": "julia",
   "version": "0.6.4"
  }
 },
 "nbformat": 4,
 "nbformat_minor": 2
}
